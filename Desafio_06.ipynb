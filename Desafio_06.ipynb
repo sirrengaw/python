{
  "nbformat": 4,
  "nbformat_minor": 0,
  "metadata": {
    "colab": {
      "name": "Desafio 06.ipynb",
      "provenance": [],
      "collapsed_sections": [],
      "authorship_tag": "ABX9TyNLfVcZY+Rdx0BsLAQjmujv",
      "include_colab_link": true
    },
    "kernelspec": {
      "name": "python3",
      "display_name": "Python 3"
    },
    "language_info": {
      "name": "python"
    }
  },
  "cells": [
    {
      "cell_type": "markdown",
      "metadata": {
        "id": "view-in-github",
        "colab_type": "text"
      },
      "source": [
        "<a href=\"https://colab.research.google.com/github/sirrengaw/python/blob/main/Desafio_06.ipynb\" target=\"_parent\"><img src=\"https://colab.research.google.com/assets/colab-badge.svg\" alt=\"Open In Colab\"/></a>"
      ]
    },
    {
      "cell_type": "markdown",
      "source": [
        "Desafio 06 - Nível Fácil"
      ],
      "metadata": {
        "id": "muY5mewtpjKt"
      }
    },
    {
      "cell_type": "code",
      "execution_count": null,
      "metadata": {
        "colab": {
          "base_uri": "https://localhost:8080/"
        },
        "id": "YbU9RTT6peOY",
        "outputId": "bbd401a6-6cf7-4dcf-ce08-b2bfd9e21f9e"
      },
      "outputs": [
        {
          "output_type": "stream",
          "name": "stdout",
          "text": [
            "O IMC de Wagner é de 40.31174415479709 - Obeso III - Muito Grave\n",
            "O IMC de Viviane é de 19.100091827364558 - Peso Normal - Médio\n"
          ]
        }
      ],
      "source": [
        "\"\"\"Crie uma classe Pessoa que tenha atributos nome, altura, peso e data de\n",
        "nascimento (separar por dia, mês e ano). Faça um método para mostrar na\n",
        "tela o seu IMC e qual é a faixa de peso em que a pessoa se encontra.\"\"\"\n",
        "\n",
        "class Pessoa:\n",
        "  def __init__(self, nome, altura, peso, data):\n",
        "    self.nome = nome\n",
        "    self.altura = altura\n",
        "    self.peso = peso\n",
        "    self.data = data\n",
        "\n",
        "  def mostrar_IMC(self):\n",
        "    self.imc = self.peso/(self.altura * self.altura)\n",
        "    if self.imc < 18.5:\n",
        "      self.faixa = \"Baixo Peso\"\n",
        "      self.comorbidade = \"Baixo\"\n",
        "    elif self.imc >=18.5 and self.imc <=24.9 :\n",
        "      self.faixa = \"Peso Normal\"\n",
        "      self.comorbidade = \"Médio\"\n",
        "    elif self.imc >= 25 and self.imc <=29.9 :\n",
        "      self.faixa = \"Sobre Peso - Pré Obeso\"\n",
        "      self.comorbidade = \"Aumentado\"\n",
        "    elif self.imc >= 30 and self.imc <=34.9 :\n",
        "      self.faixa = \"Sobre Peso - Obeso I\"\n",
        "      self.comorbidade = \"Moderado\"\n",
        "    elif self.imc >= 35 and self.imc <=39.9 :\n",
        "      self.faixa = \"Sobre Peso - Obeso II\"\n",
        "      self.comorbidade = \"Moderado\"\n",
        "    else:\n",
        "      self.faixa = \"Obeso III\"\n",
        "      self.comorbidade = \"Muito Grave\"\n",
        "    print(f\"O IMC de {self.nome} é de {self.imc} - {self.faixa} - {self.comorbidade}\")\n",
        "\n",
        "p = Pessoa(\"Wagner\", 1.83, 135, \"14/01/1983\")\n",
        "p.mostrar_IMC()\n",
        "p2 = Pessoa(\"Viviane\", 1.65, 52, \"22/03/1987\")\n",
        "p2.mostrar_IMC()"
      ]
    },
    {
      "cell_type": "markdown",
      "source": [
        "Nível Médio"
      ],
      "metadata": {
        "id": "CWRJw4rfI807"
      }
    },
    {
      "cell_type": "code",
      "source": [
        "\"\"\"Crie uma classe Televisao e uma classe ControleRemoto que pode\n",
        "controlar o volume e trocar os canais da televisão. O controle de\n",
        "volume permite: aumentar ou diminuir a potência do volume de som em\n",
        "uma unidade de cada vez; aumentar e diminuir o número do canal em uma\n",
        "unidade; trocar para um canal indicado; consultar o valor do volume\n",
        "de som e o canal selecionado.\"\"\"\n",
        "class Televisao:\n",
        "  def __init__(self, nome):\n",
        "    self.nome = nome\n",
        "    self.volume = 0\n",
        "    self.canal = 1\n",
        "  def __str__(self):\n",
        "    return self.nome\n",
        "\n",
        "  def mudar_volume(self, quantidade):\n",
        "    self.volume += quantidade\n",
        "    if self.volume < 0: self.volume = 0\n",
        "    if self.volume > 10: self.volume = 10\n",
        "    self.mostrar_volume()\n",
        "\n",
        "  def mostrar_volume(self):\n",
        "    texto = f\"{self.nome} Volume: \"\n",
        "    for i in range(self.volume):\n",
        "      texto += \"|\"\n",
        "    print(texto)\n",
        "\n",
        "  def mudar_canal(self, quantidade):\n",
        "    self.trocar_canal(self.canal + quantidade)\n",
        "\n",
        "  def trocar_canal(self, canal):\n",
        "    self.canal = canal\n",
        "    if self.canal < 0: self.canal = 0\n",
        "    if self.canal > 99: self.canal = 99\n",
        "    self.mostrar_canal()\n",
        "\n",
        "  def mostrar_canal(self):\n",
        "    print(f\"{self.nome} Canal:\", self.canal)\n",
        "\n",
        "t1 = Televisao(\"Tv da Sala\")\n",
        "print(t1)\n",
        "t2 = Televisao(\"Tv do Quarto\")\n",
        "print(t2)\n",
        "\n",
        "\n"
      ],
      "metadata": {
        "colab": {
          "base_uri": "https://localhost:8080/"
        },
        "id": "kyg2-bW1HBCt",
        "outputId": "30fa8b62-2b69-4808-e5c0-8dba6fae6197"
      },
      "execution_count": null,
      "outputs": [
        {
          "output_type": "stream",
          "name": "stdout",
          "text": [
            "Tv da Sala\n",
            "Tv do Quarto\n"
          ]
        }
      ]
    },
    {
      "cell_type": "code",
      "source": [
        "class ControleRemoto:\n",
        "  def __init__(self, nome):\n",
        "    self.nome = nome\n",
        "  def __str__(self):\n",
        "    return self.nome\n",
        "  def aumentar_volume(self, tv):\n",
        "    tv.mudar_volume(1)\n",
        "  def diminuir_volume(self, tv):\n",
        "    tv.mudar_volume(-1)\n",
        "  def aumentar_canal(self, tv):\n",
        "    if type(tv) == Televisao:\n",
        "      tv.mudar_canal(1)\n",
        "    else: print(\"tv deve ser instância da classe Televisão\")\n",
        "  def diminuir_canal(self, tv):\n",
        "    tv.mudar_canal(-1)\n",
        "  def trocar_canal(self, tv, canal):\n",
        "    tv.trocar_canal(canal)\n",
        "\n",
        "c = ControleRemoto(\"Controle Remoto Universal\")\n",
        "print(c)"
      ],
      "metadata": {
        "colab": {
          "base_uri": "https://localhost:8080/"
        },
        "id": "ukRYyB8YQidx",
        "outputId": "7e5496fe-8164-4140-fd88-ffd30a6e46d5"
      },
      "execution_count": null,
      "outputs": [
        {
          "output_type": "stream",
          "name": "stdout",
          "text": [
            "Controle Remoto Universal\n"
          ]
        }
      ]
    },
    {
      "cell_type": "code",
      "source": [
        "c.aumentar_volume(t1)\n",
        "c.aumentar_volume(t1)\n",
        "c.aumentar_volume(t1)\n",
        "c.aumentar_volume(t1)\n",
        "c.aumentar_volume(t1)"
      ],
      "metadata": {
        "colab": {
          "base_uri": "https://localhost:8080/"
        },
        "id": "bFQNpPTLQmdB",
        "outputId": "6addc430-12b0-41b1-c2fd-b76b59e8105c"
      },
      "execution_count": null,
      "outputs": [
        {
          "output_type": "stream",
          "name": "stdout",
          "text": [
            "Tv da Sala Volume: |\n",
            "Tv da Sala Volume: ||\n",
            "Tv da Sala Volume: |||\n",
            "Tv da Sala Volume: ||||\n",
            "Tv da Sala Volume: |||||\n"
          ]
        }
      ]
    },
    {
      "cell_type": "code",
      "source": [
        "c.trocar_canal(t2, 10)\n",
        "c.trocar_canal(t1, 11)\n",
        "c.aumentar_volume(t2)\n",
        "c.diminuir_volume(t1)"
      ],
      "metadata": {
        "colab": {
          "base_uri": "https://localhost:8080/"
        },
        "id": "oYD-cCotQqcf",
        "outputId": "90b69407-9257-40eb-9d75-7519f31d532b"
      },
      "execution_count": null,
      "outputs": [
        {
          "output_type": "stream",
          "name": "stdout",
          "text": [
            "Tv do Quarto Canal: 10\n",
            "Tv da Sala Canal: 11\n",
            "Tv do Quarto Volume: |\n",
            "Tv da Sala Volume: ||||\n"
          ]
        }
      ]
    },
    {
      "cell_type": "code",
      "source": [
        "import time\n",
        "for i in range(10):\n",
        "  time.sleep(1)\n",
        "  #c.aumentar_canal(t1)\n",
        "  c.aumentar_volume(t2)"
      ],
      "metadata": {
        "colab": {
          "base_uri": "https://localhost:8080/"
        },
        "id": "kQy_LCkjQtGA",
        "outputId": "bf6fa652-ed7c-4108-8e30-f19cfff717e4"
      },
      "execution_count": null,
      "outputs": [
        {
          "output_type": "stream",
          "name": "stdout",
          "text": [
            "Tv do Quarto Volume: ||\n",
            "Tv do Quarto Volume: |||\n",
            "Tv do Quarto Volume: ||||\n",
            "Tv do Quarto Volume: |||||\n",
            "Tv do Quarto Volume: ||||||\n",
            "Tv do Quarto Volume: |||||||\n",
            "Tv do Quarto Volume: ||||||||\n",
            "Tv do Quarto Volume: |||||||||\n",
            "Tv do Quarto Volume: ||||||||||\n",
            "Tv do Quarto Volume: ||||||||||\n"
          ]
        }
      ]
    },
    {
      "cell_type": "code",
      "source": [
        "c.diminuir_canal(\"Tv\")"
      ],
      "metadata": {
        "colab": {
          "base_uri": "https://localhost:8080/",
          "height": 287
        },
        "id": "D-FgfA25QxzL",
        "outputId": "e2e47999-abec-416f-8dea-16fc16a66ac5"
      },
      "execution_count": null,
      "outputs": [
        {
          "output_type": "error",
          "ename": "AttributeError",
          "evalue": "ignored",
          "traceback": [
            "\u001b[0;31m---------------------------------------------------------------------------\u001b[0m",
            "\u001b[0;31mAttributeError\u001b[0m                            Traceback (most recent call last)",
            "\u001b[0;32m<ipython-input-11-eb8fd1b44ba9>\u001b[0m in \u001b[0;36m<module>\u001b[0;34m()\u001b[0m\n\u001b[0;32m----> 1\u001b[0;31m \u001b[0mc\u001b[0m\u001b[0;34m.\u001b[0m\u001b[0mdiminuir_canal\u001b[0m\u001b[0;34m(\u001b[0m\u001b[0;34m\"Tv\"\u001b[0m\u001b[0;34m)\u001b[0m\u001b[0;34m\u001b[0m\u001b[0;34m\u001b[0m\u001b[0m\n\u001b[0m",
            "\u001b[0;32m<ipython-input-7-0a7d366d51c2>\u001b[0m in \u001b[0;36mdiminuir_canal\u001b[0;34m(self, tv)\u001b[0m\n\u001b[1;32m     13\u001b[0m     \u001b[0;32melse\u001b[0m\u001b[0;34m:\u001b[0m \u001b[0mprint\u001b[0m\u001b[0;34m(\u001b[0m\u001b[0;34m\"tv deve ser instância da classe Televisão\"\u001b[0m\u001b[0;34m)\u001b[0m\u001b[0;34m\u001b[0m\u001b[0;34m\u001b[0m\u001b[0m\n\u001b[1;32m     14\u001b[0m   \u001b[0;32mdef\u001b[0m \u001b[0mdiminuir_canal\u001b[0m\u001b[0;34m(\u001b[0m\u001b[0mself\u001b[0m\u001b[0;34m,\u001b[0m \u001b[0mtv\u001b[0m\u001b[0;34m)\u001b[0m\u001b[0;34m:\u001b[0m\u001b[0;34m\u001b[0m\u001b[0;34m\u001b[0m\u001b[0m\n\u001b[0;32m---> 15\u001b[0;31m     \u001b[0mtv\u001b[0m\u001b[0;34m.\u001b[0m\u001b[0mmudar_canal\u001b[0m\u001b[0;34m(\u001b[0m\u001b[0;34m-\u001b[0m\u001b[0;36m1\u001b[0m\u001b[0;34m)\u001b[0m\u001b[0;34m\u001b[0m\u001b[0;34m\u001b[0m\u001b[0m\n\u001b[0m\u001b[1;32m     16\u001b[0m   \u001b[0;32mdef\u001b[0m \u001b[0mtrocar_canal\u001b[0m\u001b[0;34m(\u001b[0m\u001b[0mself\u001b[0m\u001b[0;34m,\u001b[0m \u001b[0mtv\u001b[0m\u001b[0;34m,\u001b[0m \u001b[0mcanal\u001b[0m\u001b[0;34m)\u001b[0m\u001b[0;34m:\u001b[0m\u001b[0;34m\u001b[0m\u001b[0;34m\u001b[0m\u001b[0m\n\u001b[1;32m     17\u001b[0m     \u001b[0mtv\u001b[0m\u001b[0;34m.\u001b[0m\u001b[0mtrocar_canal\u001b[0m\u001b[0;34m(\u001b[0m\u001b[0mcanal\u001b[0m\u001b[0;34m)\u001b[0m\u001b[0;34m\u001b[0m\u001b[0;34m\u001b[0m\u001b[0m\n",
            "\u001b[0;31mAttributeError\u001b[0m: 'str' object has no attribute 'mudar_canal'"
          ]
        }
      ]
    },
    {
      "cell_type": "code",
      "source": [
        "c.aumentar_canal(\"texto\")\n",
        "c.aumentar_canal(t2)"
      ],
      "metadata": {
        "colab": {
          "base_uri": "https://localhost:8080/"
        },
        "id": "H0O3Y0R2Qy3I",
        "outputId": "6fcac21a-5550-4389-f57b-180ac93e14ec"
      },
      "execution_count": null,
      "outputs": [
        {
          "output_type": "stream",
          "name": "stdout",
          "text": [
            "tv deve ser instância da classe Televisão\n",
            "Tv do Quarto Canal: 11\n"
          ]
        }
      ]
    },
    {
      "cell_type": "code",
      "source": [
        "\"\"\"\n",
        "3.\tCrie uma classe Agenda que pode armazenar pessoas e que seja capaz de realizar as seguintes operações: \n",
        "armazenaPessoa(nome, cpf, telefone)\n",
        "removePessoa(nome); \n",
        "buscaPessoa(nome); // informa em que posição da agenda está a pessoa \n",
        "imprimeAgenda(); // imprime os dados de todas as pessoas da agenda \n",
        "imprimePessoa(i); // imprime os dados da pessoa que está na posição “i” da agenda.\n",
        "a.\tCriar um método que armazena uma pessoa recebendo um objeto Pessoa já instanciado.\n",
        "b.\tPoder buscar uma pessoa por cpf ou telefone\n",
        "\"\"\"\n",
        "class Pessoa:\n",
        "  def __init__(self, nome, cpf, telefone):\n",
        "    self.nome = nome\n",
        "    self.cpf = cpf\n",
        "    self.telefone = telefone\n",
        "  def __str__(self):\n",
        "    return f\"{self.nome} {self.cpf} {self.telefone}\"\n",
        "\n",
        "p1 = Pessoa(\"Eliane\", \"12345678910\", \"(99)99999-9999\")\n",
        "print(p1)\n",
        "p2 = Pessoa(\"João\", \"12345678911\", \"(98)98989-9090\")\n",
        "print(p2)\n",
        "p3 = Pessoa(\"Eduardo\", \"12345678912\", \"(97)97979-7778\")\n",
        "print(p3)"
      ],
      "metadata": {
        "id": "mQT9QxxzHV0m",
        "colab": {
          "base_uri": "https://localhost:8080/"
        },
        "outputId": "5fd05a6c-6fe5-416d-9d23-6230ef072e5d"
      },
      "execution_count": 13,
      "outputs": [
        {
          "output_type": "stream",
          "name": "stdout",
          "text": [
            "Eliane 12345678910 (99)99999-9999\n",
            "João 12345678911 (98)98989-9090\n",
            "Eduardo 12345678912 (97)97979-7778\n"
          ]
        }
      ]
    },
    {
      "cell_type": "code",
      "source": [
        "class Agenda:\n",
        "  def __init__(self):\n",
        "    self.pessoas = []\n",
        "  def __str__(self):\n",
        "    texto = \"\"\n",
        "    for pessoa in self.pessoas:\n",
        "      texto += f\"{pessoa.nome} {pessoa.cpf} {pessoa.telefone}\\n\"\n",
        "    return texto\n",
        "\n",
        "  def armazena_pessoa(self, nome, cpf, telefone):\n",
        "    p = Pessoa(nome, cpf, telefone)\n",
        "    self.armazena_obj_pessoa(p)\n",
        "  def armazena_obj_pessoa(self, pessoa):\n",
        "    if type(pessoa) == Pessoa:\n",
        "      self.pessoas.append(pessoa)\n",
        "    else:\n",
        "      print(\"Só é possível armazenar instâncias de Pessoa\")\n",
        "\n",
        "  def buscar_pessoa(self, nome):\n",
        "    for i in range( len(self.pessoas) ):\n",
        "      if self.pessoas[i].nome == nome:\n",
        "        return i\n",
        "  def buscar_cpf(self, cpf):\n",
        "    for pessoa in self.pessoas:\n",
        "      if pessoa.cpf == cpf: return pessoa\n",
        "  def buscar_telefone(self, telefone):\n",
        "    for pessoa in self.pessoas:\n",
        "      if pessoa.telefone == telefone: return pessoa\n",
        "\n",
        "  def remover_pessoa(self, nome):\n",
        "    i = self.buscar_pessoa(nome)\n",
        "    if type(i) == int:\n",
        "      self.pessoas.pop(i)\n",
        "  def remover_obj_pessoa(self, pessoa):\n",
        "    self.pessoas.remove(pessoa)\n",
        "\n",
        "agenda = Agenda()\n",
        "agenda.armazena_pessoa(\"Vânia\", \"12345678913\", \"(96)88889-9987\")\n",
        "agenda.armazena_pessoa(\"Gabriel\", \"12345678914\", \"(95)99876-0222\")\n",
        "agenda.armazena_pessoa(\"Michele\", \"12345678915\", \"(94)98765-4432\")\n",
        "print(agenda.buscar_pessoa(\"Gabriel\"))\n",
        "agenda.remover_pessoa(\"Gabriel\")\n",
        "print(agenda)"
      ],
      "metadata": {
        "colab": {
          "base_uri": "https://localhost:8080/"
        },
        "id": "JX6JTFrqfKe5",
        "outputId": "d84ad327-bdb1-41cb-ab2c-621a28f60328"
      },
      "execution_count": 14,
      "outputs": [
        {
          "output_type": "stream",
          "name": "stdout",
          "text": [
            "1\n",
            "Vânia 12345678913 (96)88889-9987\n",
            "Michele 12345678915 (94)98765-4432\n",
            "\n"
          ]
        }
      ]
    },
    {
      "cell_type": "code",
      "source": [
        "agenda.armazena_obj_pessoa(p1)\n",
        "agenda.armazena_obj_pessoa(p2)\n",
        "agenda.armazena_obj_pessoa(p3)\n",
        "print(agenda)"
      ],
      "metadata": {
        "colab": {
          "base_uri": "https://localhost:8080/"
        },
        "id": "-3-SGkmEfPHd",
        "outputId": "41c398c7-f199-4214-c465-9e8bee90d1ed"
      },
      "execution_count": 15,
      "outputs": [
        {
          "output_type": "stream",
          "name": "stdout",
          "text": [
            "Vânia 12345678913 (96)88889-9987\n",
            "Michele 12345678915 (94)98765-4432\n",
            "Eliane 12345678910 (99)99999-9999\n",
            "João 12345678911 (98)98989-9090\n",
            "Eduardo 12345678912 (97)97979-7778\n",
            "\n"
          ]
        }
      ]
    },
    {
      "cell_type": "code",
      "source": [
        "print(agenda.buscar_cpf(\"12345678910\"))\n",
        "print(agenda.buscar_telefone(\"(96)88889-9987\"))"
      ],
      "metadata": {
        "colab": {
          "base_uri": "https://localhost:8080/"
        },
        "id": "5H8a7ZH1fRDd",
        "outputId": "a8fb6ecb-08ac-44fa-f506-d754c566a969"
      },
      "execution_count": 16,
      "outputs": [
        {
          "output_type": "stream",
          "name": "stdout",
          "text": [
            "Eliane 12345678910 (99)99999-9999\n",
            "Vânia 12345678913 (96)88889-9987\n"
          ]
        }
      ]
    },
    {
      "cell_type": "code",
      "source": [
        "agenda.remover_obj_pessoa(p1)\n",
        "print(agenda)"
      ],
      "metadata": {
        "colab": {
          "base_uri": "https://localhost:8080/"
        },
        "id": "4xljOD29fSdU",
        "outputId": "82fa1a78-7830-4a0a-dfbe-ea7db698da31"
      },
      "execution_count": 17,
      "outputs": [
        {
          "output_type": "stream",
          "name": "stdout",
          "text": [
            "Vânia 12345678913 (96)88889-9987\n",
            "Michele 12345678915 (94)98765-4432\n",
            "João 12345678911 (98)98989-9090\n",
            "Eduardo 12345678912 (97)97979-7778\n",
            "\n"
          ]
        }
      ]
    }
  ]
}