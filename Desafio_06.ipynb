{
  "nbformat": 4,
  "nbformat_minor": 0,
  "metadata": {
    "colab": {
      "name": "Desafio 06.ipynb",
      "provenance": [],
      "collapsed_sections": [],
      "authorship_tag": "ABX9TyOGxb91YsszQGppL7/aXzeK",
      "include_colab_link": true
    },
    "kernelspec": {
      "name": "python3",
      "display_name": "Python 3"
    },
    "language_info": {
      "name": "python"
    }
  },
  "cells": [
    {
      "cell_type": "markdown",
      "metadata": {
        "id": "view-in-github",
        "colab_type": "text"
      },
      "source": [
        "<a href=\"https://colab.research.google.com/github/sirrengaw/python/blob/main/Desafio_06.ipynb\" target=\"_parent\"><img src=\"https://colab.research.google.com/assets/colab-badge.svg\" alt=\"Open In Colab\"/></a>"
      ]
    },
    {
      "cell_type": "markdown",
      "source": [
        "Desafio 06 - Nível Fácil"
      ],
      "metadata": {
        "id": "muY5mewtpjKt"
      }
    },
    {
      "cell_type": "code",
      "execution_count": 2,
      "metadata": {
        "colab": {
          "base_uri": "https://localhost:8080/"
        },
        "id": "YbU9RTT6peOY",
        "outputId": "bbd401a6-6cf7-4dcf-ce08-b2bfd9e21f9e"
      },
      "outputs": [
        {
          "output_type": "stream",
          "name": "stdout",
          "text": [
            "O IMC de Wagner é de 40.31174415479709 - Obeso III - Muito Grave\n",
            "O IMC de Viviane é de 19.100091827364558 - Peso Normal - Médio\n"
          ]
        }
      ],
      "source": [
        "\"\"\"Crie uma classe Pessoa que tenha atributos nome, altura, peso e data de\n",
        "nascimento (separar por dia, mês e ano). Faça um método para mostrar na\n",
        "tela o seu IMC e qual é a faixa de peso em que a pessoa se encontra.\"\"\"\n",
        "\n",
        "class Pessoa:\n",
        "  def __init__(self, nome, altura, peso, data):\n",
        "    self.nome = nome\n",
        "    self.altura = altura\n",
        "    self.peso = peso\n",
        "    self.data = data\n",
        "\n",
        "  def mostrar_IMC(self):\n",
        "    self.imc = self.peso/(self.altura * self.altura)\n",
        "    if self.imc < 18.5:\n",
        "      self.faixa = \"Baixo Peso\"\n",
        "      self.comorbidade = \"Baixo\"\n",
        "    elif self.imc >=18.5 and self.imc <=24.9 :\n",
        "      self.faixa = \"Peso Normal\"\n",
        "      self.comorbidade = \"Médio\"\n",
        "    elif self.imc >= 25 and self.imc <=29.9 :\n",
        "      self.faixa = \"Sobre Peso - Pré Obeso\"\n",
        "      self.comorbidade = \"Aumentado\"\n",
        "    elif self.imc >= 30 and self.imc <=34.9 :\n",
        "      self.faixa = \"Sobre Peso - Obeso I\"\n",
        "      self.comorbidade = \"Moderado\"\n",
        "    elif self.imc >= 35 and self.imc <=39.9 :\n",
        "      self.faixa = \"Sobre Peso - Obeso II\"\n",
        "      self.comorbidade = \"Moderado\"\n",
        "    else:\n",
        "      self.faixa = \"Obeso III\"\n",
        "      self.comorbidade = \"Muito Grave\"\n",
        "    print(f\"O IMC de {self.nome} é de {self.imc} - {self.faixa} - {self.comorbidade}\")\n",
        "\n",
        "p = Pessoa(\"Wagner\", 1.83, 135, \"14/01/1983\")\n",
        "p.mostrar_IMC()\n",
        "p2 = Pessoa(\"Viviane\", 1.65, 52, \"22/03/1987\")\n",
        "p2.mostrar_IMC()"
      ]
    }
  ]
}