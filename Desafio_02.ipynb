{
  "nbformat": 4,
  "nbformat_minor": 0,
  "metadata": {
    "colab": {
      "name": "Desafio 02.ipynb",
      "provenance": [],
      "collapsed_sections": [],
      "mount_file_id": "1YgC0j4ieCP9ReHjfqj_cwlcEt1jY0XQe",
      "authorship_tag": "ABX9TyPklSQss/r7XIpPbLpJCrGn",
      "include_colab_link": true
    },
    "kernelspec": {
      "name": "python3",
      "display_name": "Python 3"
    },
    "language_info": {
      "name": "python"
    }
  },
  "cells": [
    {
      "cell_type": "markdown",
      "metadata": {
        "id": "view-in-github",
        "colab_type": "text"
      },
      "source": [
        "<a href=\"https://colab.research.google.com/github/sirrengaw/python/blob/main/Desafio_02.ipynb\" target=\"_parent\"><img src=\"https://colab.research.google.com/assets/colab-badge.svg\" alt=\"Open In Colab\"/></a>"
      ]
    },
    {
      "cell_type": "code",
      "execution_count": null,
      "metadata": {
        "id": "G6zuhMGzSjXc"
      },
      "outputs": [],
      "source": [
        "#Aluno Wagner Fedrigo Camargo\n",
        "#Desafio 02"
      ]
    },
    {
      "cell_type": "code",
      "source": [
        "#Nível Facil \n",
        "\"\"\"\n",
        "a.tenha como entrada dois números e exiba a sua divisão. Lembre-se que não é possível dividir por 0!\n",
        "\"\"\"\n",
        "num1 = int(input(\"Digite um numero:\")) \n",
        "num2 = int(input(\"Digite outro numero:\"))\n",
        "if num2 == 0:\n",
        "  print(\"O numero 2 digitado não pode dividido ZERO\")\n",
        "else:\n",
        "  divisao = num1 / num2\n",
        "print(\"O resultado da divisão é:\",divisao)"
      ],
      "metadata": {
        "colab": {
          "base_uri": "https://localhost:8080/"
        },
        "id": "if6TtcvxSpBg",
        "outputId": "09a0aa84-6768-444c-9385-d92383cf6bf6"
      },
      "execution_count": null,
      "outputs": [
        {
          "output_type": "stream",
          "name": "stdout",
          "text": [
            "Digite um numero:10\n",
            "Digite outro numero:-2\n",
            "O resultado da divisão é: -5.0\n"
          ]
        }
      ]
    },
    {
      "cell_type": "code",
      "source": [
        "\"\"\"\n",
        "b.Ler uma nota de 0 à 10 de um aluno. Caso o usuário digite um valor inválido, mostrar a mensagem: \"Nota inválida! Digite um valor de 0 à 10!\"\n",
        "\"\"\"\n",
        "nota1 = int(input(\"Digite a nota do Aluno: \")) \n",
        "if nota1 > 10 or nota1 < 0 :\n",
        "  print(\"Nota inválida! Digite um valor de 0 à 10!\")\n"
      ],
      "metadata": {
        "colab": {
          "base_uri": "https://localhost:8080/"
        },
        "id": "CCH2_Nn5UMd5",
        "outputId": "01f37045-1f6a-41c9-a544-01596e466415"
      },
      "execution_count": null,
      "outputs": [
        {
          "output_type": "stream",
          "name": "stdout",
          "text": [
            "Digite a nota do Aluno:11\n",
            "Nota inválida! Digite um valor de 0 à 10!\n"
          ]
        }
      ]
    },
    {
      "cell_type": "code",
      "source": [
        "\"\"\"\n",
        "c.leia um número e mostre se ele é positivo ou negativo ou zero.\n",
        "\"\"\"\n",
        "numero = int(input(\"Digite um numero: \")) \n",
        "if numero == 0:\n",
        "  print(\"Numero ZERO\")\n",
        "elif numero < 0 :\n",
        "  print(\"Numero NEGATIVO\")\n",
        "else:\n",
        "  print(\"Numero POSITIVO\")"
      ],
      "metadata": {
        "colab": {
          "base_uri": "https://localhost:8080/"
        },
        "id": "EVk3ehHCVahY",
        "outputId": "cc220f96-a64e-4dcd-be6b-ab60d0d4c064"
      },
      "execution_count": null,
      "outputs": [
        {
          "output_type": "stream",
          "name": "stdout",
          "text": [
            "Digite um numero: 1\n",
            "Numero POSITIVO\n"
          ]
        }
      ]
    },
    {
      "cell_type": "code",
      "source": [
        "\"\"\"\n",
        "d.Ler 3 valores e escrever o maior deles.\n",
        "\"\"\"\n",
        "numero1 = int(input(\"Digite o 1º numero: \")) \n",
        "numero2 = int(input(\"Digite o 2º numero: \")) \n",
        "numero3 = int(input(\"Digite o 3º numero: \")) \n",
        "\n",
        "if numero1 > numero2 and numero1 > numero3 :\n",
        "  print(\"O Numero maior digitado é:\", numero1)\n",
        "elif numero2 > numero1 and numero2 > numero3 :\n",
        "  print(\"O Numero maior digitado é:\", numero2)\n",
        "else:\n",
        "  print(\"O Numero maior digitado é:\", numero3)"
      ],
      "metadata": {
        "colab": {
          "base_uri": "https://localhost:8080/"
        },
        "id": "y-QdsaRXV6Mw",
        "outputId": "78da976f-407b-4725-86ae-8b26339451a0"
      },
      "execution_count": null,
      "outputs": [
        {
          "output_type": "stream",
          "name": "stdout",
          "text": [
            "Digite o 1º numero: 20\n",
            "Digite o 2º numero: 30\n",
            "Digite o 3º numero: 10\n",
            "O Numero maior digitado é: 30\n"
          ]
        }
      ]
    },
    {
      "cell_type": "code",
      "source": [
        "#Nível Médio\n",
        "\"\"\"\n",
        "a.As maçãs de um mercado custam R$ 1,30 cada se forem compradas menos de uma dúzia, \n",
        "e R$ 1,00 se forem compradas pelo menos 12. Escreva um programa que leia o número de \n",
        "maçãs compradas, calcule e escreva o custo total da compra.\n",
        "\"\"\"\n",
        "quant = int(input(\"Digite a quantidade de macas adquiridas: \")) \n",
        "if quant < 12 :\n",
        "  totalCompra = quant * 1.30\n",
        "else:\n",
        "  totalCompra = quant * 1.00\n",
        "print(\"O valor total da compra é R$\", totalCompra)"
      ],
      "metadata": {
        "colab": {
          "base_uri": "https://localhost:8080/"
        },
        "id": "iLdgM4PiXD_G",
        "outputId": "07b25c46-e4f0-4ea5-b32e-b2ab73c36565"
      },
      "execution_count": null,
      "outputs": [
        {
          "output_type": "stream",
          "name": "stdout",
          "text": [
            "Digite a quantidade de macas adquiridas: 11\n",
            "O valor total da compra é R$ 14.3\n"
          ]
        }
      ]
    },
    {
      "cell_type": "code",
      "source": [
        "\"\"\"\n",
        "b.Ler as notas da 1ª e 2ª avaliações de um aluno. \n",
        "Calcular a média aritmética simples e escrever uma mensagem que diga se o \n",
        "aluno foi ou não aprovado (considerar que nota igual ou maior que 6 aluno \n",
        "é aprovado). Escrever também a média calculada.\n",
        "\"\"\"\n",
        "nota1 = int(input(\"Digite a nota 1: \")) \n",
        "nota2 = int(input(\"Digite a nota 2: \")) \n",
        "media = (nota1+nota2)/2\n",
        "if media < 6 :\n",
        "  print(\"Reprovado a sua média foi:\",media)\n",
        "else:\n",
        "  print(\"Aprovado, a sua média foi:\",media)\n"
      ],
      "metadata": {
        "colab": {
          "base_uri": "https://localhost:8080/"
        },
        "id": "hfSzMgHWX1Eo",
        "outputId": "2d02cd1b-db6f-4734-adb4-bf9f0c92698b"
      },
      "execution_count": null,
      "outputs": [
        {
          "output_type": "stream",
          "name": "stdout",
          "text": [
            "Digite a nota 1: 6\n",
            "Digite a nota 2: 6\n",
            "Aprovado, a sua média foi: 6.0\n"
          ]
        }
      ]
    },
    {
      "cell_type": "code",
      "source": [
        "\"\"\"\n",
        "c.A jornada de trabalho mensal de um funcionário na empresa X é de 160 horas. \n",
        "O funcionário que trabalhar mais de 160 horas receberá hora extra, cujo cálculo \n",
        "é o valor da hora regular com um acréscimo de 50%. Escreva um algoritmo que leia \n",
        "o número de horas trabalhadas em um mês, o salário por hora e escreva o salário \n",
        "total do funcionário, que deverá ser acrescido das horas extras, caso tenham \n",
        "sido trabalhadas.\n",
        "\"\"\"\n",
        "hora = int(input(\"Digite a quantidade de horas trabalhadas: \")) \n",
        "salario = float(input(\"Digite o valor do salario por hora: \")) \n",
        "if hora > 160 :\n",
        "  total = salario * (hora * 1.5)\n",
        "  print(\"O valor total do funcinário é R$\",total)\n",
        "else:\n",
        "  total = salario * (hora * 1)\n",
        "  print(\"O valor total do funcinário é R$\",total)\n"
      ],
      "metadata": {
        "colab": {
          "base_uri": "https://localhost:8080/"
        },
        "id": "2w8Oyi7UYqQK",
        "outputId": "68db53c3-264b-426f-f140-e8abcf87bde0"
      },
      "execution_count": null,
      "outputs": [
        {
          "output_type": "stream",
          "name": "stdout",
          "text": [
            "Digite a quantidade de horas trabalhadas: 161\n",
            "Digite o valor do salario por hora: 10\n",
            "O valor total do funcinário é R$ 2415.0\n"
          ]
        }
      ]
    },
    {
      "cell_type": "code",
      "source": [
        "#Nivel Avançado\n",
        "\"\"\"\n",
        "a.Um computador costuma apitar quando é ligado. Tais apitos são apitos de diagnóstico, \n",
        "indicando se há algum problema ou não. Se houver um problema, o apito é diferente. \n",
        "Para cada fabricante de BIOS, há uma codificação diferente. \n",
        "Veja a tabela a seguir de um modelo:\n",
        "1 curto\t  Atualização de DRAM\n",
        "2 curtos\tCircuito de Paridade\n",
        "3 curtos\tMemória Base 64K RAM\n",
        "4 curtos\tTimer do Sistema\n",
        "5 curtos\tProcessador\n",
        "Utilizando essa tabela, crie um programa que indique qual é o erro gerado \n",
        "para ajudar usuários. A entrada do programa é o número de apitos. \n",
        "De acordo com o número de apitos fornecido pelo usuário, mostre qual é \n",
        "o erro deste suposto computador.\n",
        "\"\"\"\n",
        "apito = int(input(\"Digite a quantidade de apitos sonoros: \")) \n",
        "if apito == 1:\n",
        "  print(\"Atualização de DRAM\")\n",
        "elif apito == 2:\n",
        "  print(\"Circuito de Paridade\")\n",
        "elif apito == 3:\n",
        "  print(\"Memória Base 64K RAM\")\n",
        "elif apito == 4:\n",
        "  print(\"Timer do Sistema\")\n",
        "elif apito == 5:\n",
        "  print(\"Processador\")\n",
        "else:\n",
        "  print(\"Entrada incorreta, digite entre 1 e 5\")\n"
      ],
      "metadata": {
        "id": "-Ki0VOHkaYi6"
      },
      "execution_count": null,
      "outputs": []
    },
    {
      "cell_type": "code",
      "source": [
        "\"\"\"\n",
        "b.\tleia uma nota de um aluno, de 0 à 10 e mostre na tela o seu conceito. Considere: \n",
        "nota >= 9,0 -> Excelente\n",
        ">= 7,0 e < 9,0 -> Bom\n",
        ">= 5,0 e < 7,0 -> Razoável\n",
        "< 5,0 -> Fraco\n",
        "\"\"\"\n",
        "nota = int(input(\"Digite a nota: \")) \n",
        "if nota < 5:\n",
        "  print(\"Fraco\")\n",
        "elif nota >=5 and nota < 7 :\n",
        "  print(\"Razoável\")\n",
        "elif nota >=7 and nota < 9 :\n",
        "  print(\"Bom\")\n",
        "elif nota >= 9 and nota <11 :\n",
        "  print(\"Excelente\")\n",
        "else:\n",
        "  print(\"Nota Inválida\")"
      ],
      "metadata": {
        "colab": {
          "base_uri": "https://localhost:8080/"
        },
        "id": "kibNdaQzbeBv",
        "outputId": "d928159f-240b-46ad-f19b-0ff496c480e7"
      },
      "execution_count": null,
      "outputs": [
        {
          "output_type": "stream",
          "name": "stdout",
          "text": [
            "Digite a nota: 11\n",
            "Nota Inválida\n"
          ]
        }
      ]
    },
    {
      "cell_type": "code",
      "source": [
        "\"\"\"\n",
        "c.Escreva na tela “Boa Madrugada”, “Bom dia”, “Boa tarde” ou “Boa noite” \n",
        "dependendo da hora do dia que o usuário digitar no teclado. Caso a hora seja \n",
        "inválida mostre: “Erro. Hora inválida”. Opcional: mostre uma imagem diferente\n",
        "para cada alternativa.\n",
        "\"\"\"\n",
        "from google.colab.patches import cv2_imshow\n",
        "import cv2\n",
        "#img = cv2.imread(\"/content/lua.jpg\")\n",
        "#cv2_imshow(img)\n",
        "caminho_bom_dia = \"/content/drive/MyDrive/Python_Files/bomdia.png\"\n",
        "caminho_boa_tarde = \"/content/drive/MyDrive/Python_Files/boatarde.png\"\n",
        "caminho_boa_noite = \"/content/drive/MyDrive/Python_Files/boanoite.jpg\"\n",
        "caminho_boa_madrugada = \"/content/drive/MyDrive/Python_Files/boamadrugada.jpg\"\n",
        "caminho_erro = \"/content/drive/MyDrive/Python_Files/erro.png\"\n",
        "hora = int(input(\"Digite a hora do dia: \"))\n",
        "if hora >= 6 and hora < 12:\n",
        "  print(\"Bom dia!\")\n",
        "  caminho = caminho_bom_dia\n",
        "elif hora >=12 and hora < 18:\n",
        "  print(\"Boa Tarde!\")\n",
        "  caminho = caminho_boa_tarde\n",
        "elif hora >=18 and hora < 25:\n",
        "  print(\"Boa Noite!\")\n",
        "  caminho = caminho_boa_noite\n",
        "elif hora >=0 and hora < 6:\n",
        "  print(\"Boa Madrugada!\")\n",
        "  caminho = caminho_boa_madrugada\n",
        "else:\n",
        "  print(\"Hora Invalida!\")\n",
        "  caminho = caminho_erro\n",
        "img = cv2.imread(caminho)\n",
        "cv2_imshow(img)"
      ],
      "metadata": {
        "colab": {
          "base_uri": "https://localhost:8080/",
          "height": 622
        },
        "id": "7yWFYMNucM4_",
        "outputId": "e8924b79-e432-4200-9b4e-81d7c3e76a58"
      },
      "execution_count": 43,
      "outputs": [
        {
          "output_type": "stream",
          "name": "stdout",
          "text": [
            "Digite a hora do dia: 25\n",
            "Hora Invalida!\n"
          ]
        },
        {
          "output_type": "display_data",
          "data": {
            "text/plain": [
              "<PIL.Image.Image image mode=RGB size=920x570 at 0x7F56D6F3F910>"
            ],
            "image/png": "[encoded data removed]"
          },
          "metadata": {}
        }
      ]
    },
    {
      "cell_type": "markdown",
      "source": [
        ""
      ],
      "metadata": {
        "id": "8naxh_A6edZG"
      }
    }
  ]
}