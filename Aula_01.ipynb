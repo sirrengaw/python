{
  "nbformat": 4,
  "nbformat_minor": 0,
  "metadata": {
    "colab": {
      "name": "Aula 01.ipynb",
      "provenance": [],
      "collapsed_sections": [],
      "authorship_tag": "ABX9TyNIFnPe7FvLkKCXuEBvJWQ2",
      "include_colab_link": true
    },
    "kernelspec": {
      "name": "python3",
      "display_name": "Python 3"
    },
    "language_info": {
      "name": "python"
    }
  },
  "cells": [
    {
      "cell_type": "markdown",
      "metadata": {
        "id": "view-in-github",
        "colab_type": "text"
      },
      "source": [
        "<a href=\"https://colab.research.google.com/github/sirrengaw/python/blob/main/Aula_01.ipynb\" target=\"_parent\"><img src=\"https://colab.research.google.com/assets/colab-badge.svg\" alt=\"Open In Colab\"/></a>"
      ]
    },
    {
      "cell_type": "code",
      "execution_count": null,
      "metadata": {
        "colab": {
          "base_uri": "https://localhost:8080/"
        },
        "id": "8OkihflmCuLD",
        "outputId": "0a55484f-1189-486d-e3ce-b044610f9dbe"
      },
      "outputs": [
        {
          "output_type": "stream",
          "name": "stdout",
          "text": [
            "=============================================\n",
            "Olá, Mundo!\n",
            "Seja bem vindo a programação do python!\n",
            "=============================================\n"
          ]
        }
      ],
      "source": [
        "print (\"=============================================\")\n",
        "print (\"Olá, Mundo!\")\n",
        "print ('Seja bem vindo a programação do python!')\n",
        "print (\"=============================================\")"
      ]
    },
    {
      "cell_type": "code",
      "source": [
        "#Comentários que nao afetam o código\n",
        "\n",
        "\"\"\"\n",
        "Comentários para nao afetar o codigo e documentar\n",
        "\"\"\"\n",
        "print (\"=============================================\")\n",
        "print (\"Olá, Boa Noite\")\n",
        "print ('Seja bem vindo a programação do python!')\n",
        "print (\"=============================================\")"
      ],
      "metadata": {
        "colab": {
          "base_uri": "https://localhost:8080/"
        },
        "id": "k3jp9ZjBU9Zk",
        "outputId": "d1d76c5e-802d-40f2-b45b-ff94ff3aced0"
      },
      "execution_count": null,
      "outputs": [
        {
          "output_type": "stream",
          "name": "stdout",
          "text": [
            "=============================================\n",
            "Olá, Boa Noite\n",
            "Seja bem vindo a programação do python!\n",
            "=============================================\n"
          ]
        }
      ]
    },
    {
      "cell_type": "code",
      "source": [
        "#Aluno: Wagner Fedrigo Camargo\n",
        "print (\"=============================================\")\n",
        "print (\"Variaveis - Operadores\")\n",
        "print (\"=============================================\")\n",
        "a = 100\n",
        "b = 10\n",
        "print (\"O valor de a é:\", a)\n",
        "print (\"O valor de b é:\", b)\n",
        "soma = a + b\n",
        "subtracao = a - b\n",
        "multiplicacao = a * b\n",
        "divisao = a / b\n",
        "restoDiv = a % b\n",
        "print(\"O resultado de a + b é:\", soma)\n",
        "print(\"O resultado de a - b é:\", subtracao)\n",
        "print(\"O resultado de a * b é:\", multiplicacao)\n",
        "print(\"O resultado de a / b é:\", divisao)\n",
        "print(\"O resultado de a % b é:\", restoDiv)\n",
        "print( type(a) )\n",
        "print( type(b) )\n",
        "print (\"=============================================\")"
      ],
      "metadata": {
        "colab": {
          "base_uri": "https://localhost:8080/"
        },
        "id": "s90SQ_gsVbmL",
        "outputId": "ef6facbf-71b9-41c4-9edf-3585ca37886f"
      },
      "execution_count": null,
      "outputs": [
        {
          "output_type": "stream",
          "name": "stdout",
          "text": [
            "=============================================\n",
            "Variaveis - Operadores\n",
            "=============================================\n",
            "O valor de a é: 100\n",
            "O valor de b é: 10\n",
            "O resultado de a + b é: 110\n",
            "O resultado de a - b é: 90\n",
            "O resultado de a * b é: 1000\n",
            "O resultado de a / b é: 10.0\n",
            "O resultado de a % b é: 0\n",
            "<class 'int'>\n",
            "<class 'int'>\n",
            "=============================================\n"
          ]
        }
      ]
    },
    {
      "cell_type": "code",
      "source": [
        "#Aluno: Wagner Fedrigo Camargo\n",
        "print (\"=============================================\")\n",
        "print (\"Variaveis - Operadores\")\n",
        "print (\"=============================================\")\n",
        "a = int(input(\"Digite o valor de A: \"))\n",
        "b = int(input(\"Digite o valor de B: \"))\n",
        "print (\"O valor de a é:\", a)\n",
        "print (\"O valor de b é:\", b)\n",
        "soma = a + b\n",
        "subtracao = a - b\n",
        "multiplicacao = a * b\n",
        "divisao = a / b\n",
        "restoDiv = a % b\n",
        "potencia = a ** b\n",
        "print(\"O resultado de a + b é:\", soma)\n",
        "print(\"O resultado de a - b é:\", subtracao)\n",
        "print(\"O resultado de a * b é:\", multiplicacao)\n",
        "print(\"O resultado de a / b é:\", divisao)\n",
        "print(\"O resultado de a % b é:\", restoDiv) #Resto da Divisao\n",
        "print(\"O resultado de a ** b é:\", potencia) #Potencia\n",
        "print(\"O tipo da variavel A é: \", type(a) )\n",
        "print(\"O tipo da variavel B é: \", type(b) )\n",
        "print (\"=============================================\")"
      ],
      "metadata": {
        "colab": {
          "base_uri": "https://localhost:8080/"
        },
        "id": "O3qYFx3hejeh",
        "outputId": "b92e574e-5a22-4da8-cd16-e9f79bc77308"
      },
      "execution_count": null,
      "outputs": [
        {
          "output_type": "stream",
          "name": "stdout",
          "text": [
            "=============================================\n",
            "Variaveis - Operadores\n",
            "=============================================\n",
            "Digite o valor de A: 2\n",
            "Digite o valor de B: 3\n",
            "O valor de a é: 2\n",
            "O valor de b é: 3\n",
            "O resultado de a + b é: 5\n",
            "O resultado de a - b é: -1\n",
            "O resultado de a * b é: 6\n",
            "O resultado de a / b é: 0.6666666666666666\n",
            "O resultado de a % b é: 2\n",
            "O resultado de a ** b é: 8\n",
            "O tipo da variavel A é:  <class 'int'>\n",
            "O tipo da variavel B é:  <class 'int'>\n",
            "=============================================\n"
          ]
        }
      ]
    }
  ]
}