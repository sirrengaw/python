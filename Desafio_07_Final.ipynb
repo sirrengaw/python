{
  "nbformat": 4,
  "nbformat_minor": 0,
  "metadata": {
    "colab": {
      "name": "Desafio 07 - Final.ipynb",
      "provenance": [],
      "collapsed_sections": [],
      "authorship_tag": "ABX9TyMG03mgkLwwYcyOFV1gvvc7",
      "include_colab_link": true
    },
    "kernelspec": {
      "name": "python3",
      "display_name": "Python 3"
    },
    "language_info": {
      "name": "python"
    }
  },
  "cells": [
    {
      "cell_type": "markdown",
      "metadata": {
        "id": "view-in-github",
        "colab_type": "text"
      },
      "source": [
        "<a href=\"https://colab.research.google.com/github/sirrengaw/python/blob/main/Desafio_07_Final.ipynb\" target=\"_parent\"><img src=\"https://colab.research.google.com/assets/colab-badge.svg\" alt=\"Open In Colab\"/></a>"
      ]
    },
    {
      "cell_type": "markdown",
      "source": [
        "Desafio 07 - Nível Fácil"
      ],
      "metadata": {
        "id": "sEImXoiwdjMZ"
      }
    },
    {
      "cell_type": "code",
      "execution_count": 16,
      "metadata": {
        "colab": {
          "base_uri": "https://localhost:8080/"
        },
        "id": "DyMOJFo3dgaV",
        "outputId": "f3834d70-e7fc-42dd-dcb3-8798a164128e"
      },
      "outputs": [
        {
          "output_type": "stream",
          "name": "stdout",
          "text": [
            "=========================================================================\n",
            "====================== VOCÊ SAIU DO SISTEMA! ============================\n",
            "=========================================================================\n"
          ]
        }
      ],
      "source": [
        "\"\"\"\n",
        "1.\tProjeto: utilize a sua criatividade para criar um pequeno sistema de cadastro. \n",
        "Utilize os recursos que você aprendeu até agora (funções, listas, etc.) \n",
        "Sugestões: \n",
        "a.\tcadastro de clientes.\n",
        "\"\"\"\n",
        "from google.colab import output\n",
        "print(\"=========================================================================\")\n",
        "print(\"======= S I S T E M A  D E  C A D A S T R O  D E  C L I E N T E S =======\")\n",
        "print(\"=========================================================================\")\n",
        "op = 1\n",
        "listaCliente = []\n",
        "while op != 0:\n",
        "  print(\"Digite a opção: 1 - CADASTRAR | 2 - CONSULTAR | 3 - APAGAR | 0 - SAIR\")\n",
        "  op = int(input(\"Opção: \"))\n",
        "  if op == 1:\n",
        "    output.clear()\n",
        "    print(\"=================================\")\n",
        "    print(\"======= CADASTRAR CLIENTE =======\")\n",
        "    print(\"=================================\")\n",
        "    itensLista = []\n",
        "    nome = input(\"Nome: \")\n",
        "    cpf = input(\"CPF: \")\n",
        "    telefone = input(\"Telefone: \")\n",
        "    email = input(\"E-mail: \")\n",
        "    itensLista = [nome,cpf,telefone,email]\n",
        "    listaCliente.append(itensLista)\n",
        "    print(\"=================================\")\n",
        "    print(\" CLIENTE CADASTRADO COM SUCESSO! \")\n",
        "    print(\"=================================\")\n",
        "  elif op == 2:\n",
        "    output.clear()\n",
        "    print(\"=================================\")\n",
        "    print(\"====== CONSULTAR CLIENTES =======\")\n",
        "    print(\"=================================\")\n",
        "    i = len(listaCliente)\n",
        "    for n in range(i):\n",
        "     print(n+1,\": \",listaCliente[n])\n",
        "  elif op == 3:\n",
        "    output.clear()\n",
        "    print(\"=================================\")\n",
        "    print(\"========= APAGAR CLIENTE ========\")\n",
        "    print(\"=================================\")\n",
        "    delet = int(input(\"Digite o código do cliente para apagar: \"))\n",
        "    listaCliente.pop(delet-1)\n",
        "    print(\"=================================\")\n",
        "    print(\"= CLIENTE APAGADO COM SUCESSO!! =\")\n",
        "    print(\"=================================\")\n",
        "  else:\n",
        "    op = 0\n",
        "    output.clear()\n",
        "print(\"=========================================================================\")\n",
        "print(\"==================== VOCÊ SAIU DO SISTEMA, OBRIGADO! ====================\")\n",
        "print(\"=========================================================================\")"
      ]
    }
  ]
}