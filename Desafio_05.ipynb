{
  "nbformat": 4,
  "nbformat_minor": 0,
  "metadata": {
    "colab": {
      "name": "Desafio 05.ipynb",
      "provenance": [],
      "collapsed_sections": [],
      "authorship_tag": "ABX9TyPnmfJQ5Q6KoSyjWN7Te0e5",
      "include_colab_link": true
    },
    "kernelspec": {
      "name": "python3",
      "display_name": "Python 3"
    },
    "language_info": {
      "name": "python"
    }
  },
  "cells": [
    {
      "cell_type": "markdown",
      "metadata": {
        "id": "view-in-github",
        "colab_type": "text"
      },
      "source": [
        "<a href=\"https://colab.research.google.com/github/sirrengaw/python/blob/main/Desafio_05.ipynb\" target=\"_parent\"><img src=\"https://colab.research.google.com/assets/colab-badge.svg\" alt=\"Open In Colab\"/></a>"
      ]
    },
    {
      "cell_type": "markdown",
      "source": [
        "Desafio 05 - Nível Fácil"
      ],
      "metadata": {
        "id": "iuRmPI8PWPvo"
      }
    },
    {
      "cell_type": "code",
      "execution_count": null,
      "metadata": {
        "colab": {
          "base_uri": "https://localhost:8080/"
        },
        "id": "E8irm--CWPMd",
        "outputId": "e5a85004-db85-473f-fccf-3baf08ffaf8e"
      },
      "outputs": [
        {
          "output_type": "stream",
          "name": "stdout",
          "text": [
            "Estamos hoje aprendendo sobre Funções no Python!\n"
          ]
        }
      ],
      "source": [
        "#0.\tEscreva uma frase qualquer na tela\n",
        "\n",
        "def frase():\n",
        "  print(\"Estamos hoje aprendendo sobre Funções no Python!\")\n",
        "\n",
        "frase()"
      ]
    },
    {
      "cell_type": "code",
      "source": [
        "#1.\tReceba por parâmetro um nome e mostre na tela: “Bom dia <nome>” sendo <nome> o valor do parâmetro\n",
        "\n",
        "def frase(nome):\n",
        "  print(\"Bom dia,\", nome)\n",
        "\n",
        "frase(\"Wagner\")"
      ],
      "metadata": {
        "colab": {
          "base_uri": "https://localhost:8080/"
        },
        "id": "rYo_k1VJWjRM",
        "outputId": "52670f92-5b02-45d0-de1e-2a1c7593d40f"
      },
      "execution_count": null,
      "outputs": [
        {
          "output_type": "stream",
          "name": "stdout",
          "text": [
            "Bom dia, Wagner\n"
          ]
        }
      ]
    },
    {
      "cell_type": "code",
      "source": [
        "#2.\tReceba um número por parâmetro e mostre na tela o seu valor multiplicado por 2.\n",
        "\n",
        "def mult(numero):\n",
        "  print(\"O numero multiplacado por 2 é:\",numero*2)\n",
        "\n",
        "mult(2)"
      ],
      "metadata": {
        "colab": {
          "base_uri": "https://localhost:8080/"
        },
        "id": "YW0kVtxSW-pf",
        "outputId": "33cf6e5f-996d-4012-a48b-acb3887ec83b"
      },
      "execution_count": null,
      "outputs": [
        {
          "output_type": "stream",
          "name": "stdout",
          "text": [
            "O numero multiplacado por 2 é: 4\n"
          ]
        }
      ]
    },
    {
      "cell_type": "code",
      "source": [
        "#3.\tReceba dois números por parâmetro e mostre na tela a soma deles (dentro da função)\n",
        "\n",
        "def soma(n1,n2):\n",
        "  print(\"A soma dos numeros é:\",n1+n2)\n",
        "\n",
        "soma(2,2)"
      ],
      "metadata": {
        "colab": {
          "base_uri": "https://localhost:8080/"
        },
        "id": "RN5i7fGeXM7s",
        "outputId": "3eddae81-5acc-41b5-f116-adb469962a79"
      },
      "execution_count": null,
      "outputs": [
        {
          "output_type": "stream",
          "name": "stdout",
          "text": [
            "A soma dos numeros é: 4\n"
          ]
        }
      ]
    },
    {
      "cell_type": "code",
      "source": [
        "#4.\tReceba dois números por parâmetro e retorne a sua subtração.\n",
        "\n",
        "def sub(n1,n2):\n",
        "  print(\"A subtração dos numeros é:\",n1-n2)\n",
        "\n",
        "sub(2,2)"
      ],
      "metadata": {
        "colab": {
          "base_uri": "https://localhost:8080/"
        },
        "id": "XgykJnnoXfWL",
        "outputId": "83bee7a8-bad7-4370-e1e1-032e3becd6f1"
      },
      "execution_count": null,
      "outputs": [
        {
          "output_type": "stream",
          "name": "stdout",
          "text": [
            "A subtração dos numeros é: 0\n"
          ]
        }
      ]
    },
    {
      "cell_type": "code",
      "source": [
        "#5.\tReceba dois textos por parâmetro e retorne a sua união.\n",
        "def unirTexto(texto1,texto2):\n",
        "  print(texto1+texto2)\n",
        "\n",
        "unirTexto(\"Wagner\",\"Camargo\")"
      ],
      "metadata": {
        "colab": {
          "base_uri": "https://localhost:8080/"
        },
        "id": "RzzZ9fdNXn22",
        "outputId": "0f135e0b-a9be-4399-82f7-bfd194e1d304"
      },
      "execution_count": null,
      "outputs": [
        {
          "output_type": "stream",
          "name": "stdout",
          "text": [
            "WagnerCamargo\n"
          ]
        }
      ]
    },
    {
      "cell_type": "code",
      "source": [
        "#6.\tReceba um número por parâmetro e retorne True se o número for par e False se for ímpar.\n",
        "\n",
        "def par(numero):\n",
        "  if numero % 2 == 0:\n",
        "    print(\"True\")\n",
        "  else:\n",
        "    print(\"False\")\n",
        "\n",
        "par(2)"
      ],
      "metadata": {
        "colab": {
          "base_uri": "https://localhost:8080/"
        },
        "id": "LNKQTHogX0rj",
        "outputId": "9e271277-d8fa-4e76-cb86-a3b13a2a1dfb"
      },
      "execution_count": null,
      "outputs": [
        {
          "output_type": "stream",
          "name": "stdout",
          "text": [
            "True\n"
          ]
        }
      ]
    },
    {
      "cell_type": "code",
      "source": [
        "#0.\ttenha como entrada um número e exiba o seu quadrado.\n",
        "\n",
        "def quad(numero):\n",
        "  result = numero * numero\n",
        "  return result\n",
        "quad(2)"
      ],
      "metadata": {
        "colab": {
          "base_uri": "https://localhost:8080/"
        },
        "id": "3qmyzWLjYM-b",
        "outputId": "4528fae3-625e-420f-ab47-61b627ae1689"
      },
      "execution_count": null,
      "outputs": [
        {
          "output_type": "execute_result",
          "data": {
            "text/plain": [
              "4"
            ]
          },
          "metadata": {},
          "execution_count": 11
        }
      ]
    },
    {
      "cell_type": "code",
      "source": [
        "#1.\tLer 3 valores e escrever o maior deles.\n",
        "\n",
        "def maior3numeros(n1,n2,n3):\n",
        "  if n1 > n2 > n3:\n",
        "    result = n1\n",
        "  elif n2 > n1 > n3:\n",
        "    result = n2\n",
        "  else:\n",
        "    result = n3\n",
        "  return result\n",
        "\n",
        "maior3numeros(5,7,1)"
      ],
      "metadata": {
        "colab": {
          "base_uri": "https://localhost:8080/"
        },
        "id": "X-2AtWDiYix9",
        "outputId": "f4d123ee-1c50-4de9-a527-c04248e3c6ed"
      },
      "execution_count": null,
      "outputs": [
        {
          "output_type": "execute_result",
          "data": {
            "text/plain": [
              "7"
            ]
          },
          "metadata": {},
          "execution_count": 12
        }
      ]
    },
    {
      "cell_type": "code",
      "source": [
        "#2.\tleia do teclado as dimensões de um retângulo (base e altura), calcular e escrever a área do retângulo. \n",
        "\n",
        "def areaRet(base,altura):\n",
        "  if base <= 0 or altura <=0:\n",
        "    print(\"Numero ZERO ou Negativo\")\n",
        "  else:\n",
        "    area = (base * altura)\n",
        "    return area\n",
        "\n",
        "areaRet(-5,10)"
      ],
      "metadata": {
        "colab": {
          "base_uri": "https://localhost:8080/"
        },
        "id": "Q0itFp_8ZbpU",
        "outputId": "dc158b5d-9a51-4bf5-b787-b17b50d3e6fe"
      },
      "execution_count": null,
      "outputs": [
        {
          "output_type": "stream",
          "name": "stdout",
          "text": [
            "Numero ZERO ou Negativo\n"
          ]
        }
      ]
    },
    {
      "cell_type": "code",
      "source": [
        "#3.\tCrie um vetor de int vetA com tamanho 5 e mostre na tela os valores de seus elementos;\n",
        "def vetor(numero):\n",
        "  vet = []\n",
        "  for x in range(numero):\n",
        "    x = vet.append(x)\n",
        "  return vet\n",
        "\n",
        "print(vetor(5))"
      ],
      "metadata": {
        "colab": {
          "base_uri": "https://localhost:8080/"
        },
        "id": "kEfErQlCaUNU",
        "outputId": "095d6a74-3a6f-4904-92fe-cd64926a0966"
      },
      "execution_count": null,
      "outputs": [
        {
          "output_type": "stream",
          "name": "stdout",
          "text": [
            "[0, 1, 2, 3, 4]\n"
          ]
        }
      ]
    },
    {
      "cell_type": "markdown",
      "source": [
        "Nível Médio"
      ],
      "metadata": {
        "id": "CQysoUX1YRyt"
      }
    },
    {
      "cell_type": "code",
      "source": [
        "#0.\treceba 5 números por parâmetro e retorne uma lista com estes números em ordem crescente. \n",
        "def lista(n1,n2,n3,n4,n5):\n",
        "    lista = [n1,n2,n3,n4,n5]\n",
        "    lista.sort()\n",
        "    return lista\n",
        "\n",
        "print(lista(2,7,1,6,10))"
      ],
      "metadata": {
        "colab": {
          "base_uri": "https://localhost:8080/"
        },
        "id": "hvolxovMZxnW",
        "outputId": "dbbd1bce-9410-409e-e40d-903265e33282"
      },
      "execution_count": null,
      "outputs": [
        {
          "output_type": "stream",
          "name": "stdout",
          "text": [
            "[1, 2, 6, 7, 10]\n"
          ]
        }
      ]
    },
    {
      "cell_type": "code",
      "source": [
        "#1.\treceba um float e retorne o seu dobro\n",
        "def dobro(num):\n",
        "  result = (num * 2)\n",
        "  return result\n",
        "\n",
        "numero = 10.5\n",
        "print(dobro(numero))\n",
        "print(type(numero))"
      ],
      "metadata": {
        "colab": {
          "base_uri": "https://localhost:8080/"
        },
        "id": "QWdL8ERgdwYD",
        "outputId": "0b3ab3ba-1d38-4488-abc2-1fb4d371fd42"
      },
      "execution_count": null,
      "outputs": [
        {
          "output_type": "stream",
          "name": "stdout",
          "text": [
            "21.0\n",
            "<class 'float'>\n"
          ]
        }
      ]
    },
    {
      "cell_type": "code",
      "source": [
        "\"\"\"\n",
        "1.\treceba dois floats. O primeiro parâmetro deve ser chamado de valorEmReal e o \n",
        "segundo parâmetro deve ser chamado juros. Retornar o valorEmReal acrescido da taxa de juros.\n",
        "\"\"\"\n",
        "def juros(valorEmReal,juros):\n",
        "  valorFinal = valorEmReal + (valorEmReal * (juros/100))\n",
        "  return valorFinal\n",
        "\n",
        "juros(100,2)"
      ],
      "metadata": {
        "colab": {
          "base_uri": "https://localhost:8080/"
        },
        "id": "skziEmP6hSGL",
        "outputId": "883dab67-5a39-4505-d6da-01e255a09f86"
      },
      "execution_count": null,
      "outputs": [
        {
          "output_type": "execute_result",
          "data": {
            "text/plain": [
              "102.0"
            ]
          },
          "metadata": {},
          "execution_count": 50
        }
      ]
    },
    {
      "cell_type": "code",
      "source": [
        "\"\"\"\n",
        "0.\tMaçãs verdes custam R$ 12,20 por quilo. Cada uma pesa em torno de 130g. \n",
        "Faça um programa que tenha como entrada a quantidade de maçãs e mostre o valor em reais.\n",
        "\"\"\"\n",
        "def valorMaca(quantMaca):\n",
        "  valor = quantMaca * 0.130 * 12.20\n",
        "  print(type(valor))\n",
        "  result = print (\"O valor total de maças é: R$ %5.2f\" % valor)\n",
        "  return result\n",
        "\n",
        "valorMaca(14)\n"
      ],
      "metadata": {
        "colab": {
          "base_uri": "https://localhost:8080/"
        },
        "id": "2Ow-M6h0h295",
        "outputId": "7492d613-d20f-427e-fe8a-05db85e9bb30"
      },
      "execution_count": null,
      "outputs": [
        {
          "output_type": "stream",
          "name": "stdout",
          "text": [
            "<class 'float'>\n",
            "O valor total de maças é: R$ 22.20\n"
          ]
        }
      ]
    },
    {
      "cell_type": "code",
      "source": [
        "\"\"\"\n",
        "1.\tA jornada de trabalho mensal de um funcionário na empresa X é de 160 horas. \n",
        "O funcionário que trabalhar mais de 160 horas receberá hora extra, cujo cálculo \n",
        "é o valor da hora regular com um acréscimo de 50%. Escreva um algoritmo que leia \n",
        "o número de horas trabalhadas em um mês, o salário por hora e escreva o salário \n",
        "total do funcionário, que deverá ser acrescido das horas extras, \n",
        "caso tenham sido trabalhadas.\n",
        "\"\"\"\n",
        "def calculoTrab(hora,salario):\n",
        "  if hora > 160 :\n",
        "    total = (salario * 160)+(((hora - 160) * 1.5)*salario)\n",
        "    result = print(\"O valor total do funcionário é R$ %5.2f\" % total)\n",
        "    return result\n",
        "  else:\n",
        "    total = salario * (hora * 1)\n",
        "    result = print(\"O valor total do funcionário é R$ %5.2f\" % total)\n",
        "    return result\n",
        "\n",
        "hora = int(input(\"Digite a quantidade de horas trabalhadas: \")) \n",
        "salario = float(input(\"Digite o valor do salario por hora: \")) \n",
        "calculoTrab(hora,salario)"
      ],
      "metadata": {
        "colab": {
          "base_uri": "https://localhost:8080/"
        },
        "id": "eAIcPZdTkI65",
        "outputId": "63b41514-27d2-43bb-a001-5e7c1b6fd50f"
      },
      "execution_count": 5,
      "outputs": [
        {
          "output_type": "stream",
          "name": "stdout",
          "text": [
            "Digite a quantidade de horas trabalhadas: 170\n",
            "Digite o valor do salario por hora: 10.51\n",
            "O valor total do funcionário é R$ 1839.25\n"
          ]
        }
      ]
    },
    {
      "cell_type": "code",
      "source": [
        "\"\"\"\n",
        "2.\tleia do teclado uma distância em metros e mostre na tela o \n",
        "seu valor convertido em quilômetros.(Valores inválidos: números negativos).\n",
        "\"\"\"\n",
        "def funcaoMTtoKM(distanciaMT):\n",
        "  km = distanciaMT / 1000\n",
        "  return km\n",
        "\n",
        "distancia = float(input(\"Digite o distancia em metros: \")) \n",
        "while distancia < 0:\n",
        "  print(\"Erro! Digite um número positivo!\")\n",
        "  distancia = float(input(\"Digite o distancia em metros: \")) \n",
        "km = funcaoMTtoKM(distancia)\n",
        "print(\"A distancia é:\",km,\"km\")\n"
      ],
      "metadata": {
        "colab": {
          "base_uri": "https://localhost:8080/"
        },
        "id": "YIbNk6nEryxX",
        "outputId": "ba8a2932-a92c-4993-f5fa-e6c45aabbbde"
      },
      "execution_count": 11,
      "outputs": [
        {
          "output_type": "stream",
          "name": "stdout",
          "text": [
            "Digite o distancia em metros: 500\n",
            "A distancia é: 0.5 km\n"
          ]
        }
      ]
    },
    {
      "cell_type": "code",
      "source": [
        "\"\"\"\n",
        "3.\tCrie uma list de int vetB com tamanho 5, insira um inteiro com entrada \n",
        "do teclado para cada um dos elementos e mostre na tela os seus valores após a inserção dos elementos.\n",
        "\"\"\"\n",
        "def lista(n1,n2,n3,n4,n5):\n",
        "    lista = [n1,n2,n3,n4,n5]\n",
        "    lista.sort()\n",
        "    return lista\n",
        "print(\"==========================================\")\n",
        "n = []\n",
        "for i in range(5):\n",
        "  x = int(input(\"Digite o %dº numero: \" % (i+1))) \n",
        "  n.append(x)\n",
        "print(lista(n[0],n[1],n[2],n[3],n[4]))\n",
        "print(\"==========================================\")"
      ],
      "metadata": {
        "colab": {
          "base_uri": "https://localhost:8080/"
        },
        "id": "8xljHEMYtjze",
        "outputId": "6d0e130d-f249-4891-df47-6c368523b3e4"
      },
      "execution_count": 25,
      "outputs": [
        {
          "output_type": "stream",
          "name": "stdout",
          "text": [
            "==========================================\n",
            "Digite o 1º numero: 1\n",
            "Digite o 2º numero: 2\n",
            "Digite o 3º numero: 3\n",
            "Digite o 4º numero: 4\n",
            "Digite o 5º numero: 5\n",
            "[1, 2, 3, 4, 5]\n",
            "==========================================\n"
          ]
        }
      ]
    }
  ]
}