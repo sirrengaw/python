{
  "nbformat": 4,
  "nbformat_minor": 0,
  "metadata": {
    "colab": {
      "name": "Aula06.ipynb",
      "provenance": [],
      "collapsed_sections": [],
      "authorship_tag": "ABX9TyPo2vuU5TxVtyw31Zo85uIn",
      "include_colab_link": true
    },
    "kernelspec": {
      "name": "python3",
      "display_name": "Python 3"
    },
    "language_info": {
      "name": "python"
    }
  },
  "cells": [
    {
      "cell_type": "markdown",
      "metadata": {
        "id": "view-in-github",
        "colab_type": "text"
      },
      "source": [
        "<a href=\"https://colab.research.google.com/github/sirrengaw/python/blob/main/Aula06.ipynb\" target=\"_parent\"><img src=\"https://colab.research.google.com/assets/colab-badge.svg\" alt=\"Open In Colab\"/></a>"
      ]
    },
    {
      "cell_type": "markdown",
      "source": [
        "Orientação a objetos\n",
        "É um paradigma de programação em que o seu foco não está nos procedimentos do ambiente, mas sim nos seus objetos existentes. É um ponto de vista diferente, uma nova forma de descrever um ponto de vista nos sistemas.\n",
        "\n",
        "Modelar sistemas utilizando objetos - conjunto de componentes autocontido\n",
        "\n",
        "Um objeto tem comportamento e características\n",
        "\n",
        "Linguagens que iniciaram a POO\n",
        "\n",
        "Simula 67 - década de 60\n",
        "SmallTalk - década de 70\n",
        "C++ - década de 80\n",
        "Abstração\n",
        "trazer do mundo real conceitos para dentro dos sistemas.\n",
        "\n",
        "Entidade (Classe) Cachorro\n",
        "Características (atributos): peso, cor, altura, raça\n",
        "Ações (métodos): latir, caminhar, cavar_buraco, farejar, urinar, perseguir...\n",
        "\n",
        "Cliente\n",
        "\n",
        "atributos: nome, cpf, endereço, telefone...\n",
        "ações: comprar, cancelar compra, devolver produto...\n",
        "Classes\n",
        "Descreve um conjunto de objetos que contém propriedades, comportamentos, relacionamentos e significado em comum. Uma classe é um \"esqueleto\" ou \"forma\" para criar objeto.\n",
        "\n",
        "Atributos\n",
        "São propriedades, características\n",
        "\n",
        "Métodos\n",
        "São as ações, comportamento, conjunto de operações que a classe fornece para os objetos.\n",
        "\n",
        "Identidade\n",
        "Cada objeto é único no sistema"
      ],
      "metadata": {
        "id": "pZbTHjBRkGg-"
      }
    },
    {
      "cell_type": "code",
      "source": [
        "class Cachorro:\n",
        "  \n",
        "  def __init__(self, nome, peso, cor, altura):\n",
        "    self.nome = nome\n",
        "    self.peso = peso\n",
        "    self.cor = cor\n",
        "    self.altura = altura\n",
        "\n",
        "  def __str__(self):\n",
        "    return f\"Cachorro: {self.nome}, peso: {self.peso}\"\\\n",
        "            +f\" cor: {self.cor} altura:{self.altura}\"\n",
        "    #texto = \"Cachorro:\" + self.nome + \" peso:\" + str(self.peso)\\\n",
        "    #      +\" cor:\" + self.cor + \" altura:\" + str(self.altura)\n",
        "    #return texto\n",
        "\n",
        "  def latir(self):\n",
        "    if self.peso <= 4:\n",
        "      print(\"Au au au au\")\n",
        "    elif self.peso <= 6:\n",
        "      print(\"Auau\")\n",
        "    else: \n",
        "      print(\"Au\")\n",
        "\n",
        "toto = Cachorro(nome = \"Tóto\", peso = 10, cor = \"Caramelo\", altura = 60)\n",
        "print(toto)\n",
        "toto.latir()\n",
        "toto2 = Cachorro(nome = \"Tóto\", peso = 10, cor = \"Caramelo\", altura = 60)\n",
        "if toto == toto2:\n",
        "  print(\"São iguais\")\n",
        "else:\n",
        "  print(\"São diferentes\")\n",
        "\n",
        "toto = toto2\n",
        "#o primeiro toto (o objeto) perde a referência\n",
        "#o primeiro toto fica \"órfão\"\n",
        "#o primeiro (o objeto) é eliminado pelo garbage collector (GC)\n",
        "if toto == toto2:\n",
        "  print(\"São iguais\")\n",
        "else:\n",
        "  print(\"São diferentes\")"
      ],
      "metadata": {
        "colab": {
          "base_uri": "https://localhost:8080/"
        },
        "id": "GEJ7LR9YkCdM",
        "outputId": "ce2da1ad-1840-4ab1-b4cb-d2c660f0fb93"
      },
      "execution_count": 3,
      "outputs": [
        {
          "output_type": "stream",
          "name": "stdout",
          "text": [
            "Cachorro: Tóto, peso: 10 cor: Caramelo altura:60\n",
            "Au\n",
            "São diferentes\n",
            "São iguais\n"
          ]
        }
      ]
    },
    {
      "cell_type": "code",
      "source": [
        "toto3 = Cachorro(\"Mel\", 6.5, \"Branco\", 40)\n",
        "toto4 = Cachorro(\"Preta\", 7, \"Preta\", 50)\n",
        "toto5 = Cachorro(\"Belinha\", 5, \"Marrom\", 70)\n",
        "salsicha = Cachorro(\"Salsicha\", 4, \"Caramelo\", 30)\n",
        "toto6 = Cachorro(\"Mel\", 7, \"Marrom\", 60)\n",
        "\n",
        "lista_cachorros = [toto2, toto3, toto4, toto5, salsicha]\n",
        "for cachorro in lista_cachorros:\n",
        "  print(cachorro)\n",
        "  print(cachorro.latir())"
      ],
      "metadata": {
        "colab": {
          "base_uri": "https://localhost:8080/"
        },
        "id": "mG6MMu7VpOft",
        "outputId": "86b3ca6c-f855-453a-a661-ba9da3c31b30"
      },
      "execution_count": 4,
      "outputs": [
        {
          "output_type": "stream",
          "name": "stdout",
          "text": [
            "Cachorro: Tóto, peso: 10 cor: Caramelo altura:60\n",
            "Au\n",
            "None\n",
            "Cachorro: Mel, peso: 6.5 cor: Branco altura:40\n",
            "Au\n",
            "None\n",
            "Cachorro: Preta, peso: 7 cor: Preta altura:50\n",
            "Au\n",
            "None\n",
            "Cachorro: Belinha, peso: 5 cor: Marrom altura:70\n",
            "Auau\n",
            "None\n",
            "Cachorro: Salsicha, peso: 4 cor: Caramelo altura:30\n",
            "Au au au au\n",
            "None\n"
          ]
        }
      ]
    },
    {
      "cell_type": "code",
      "source": [
        "if toto3.nome == toto6.nome:\n",
        "  print(\"nomes iguais\")"
      ],
      "metadata": {
        "colab": {
          "base_uri": "https://localhost:8080/"
        },
        "id": "tqh9gHmjpQHU",
        "outputId": "f6ca79a6-11f2-4e4f-e02d-4a9a5ad442e9"
      },
      "execution_count": 5,
      "outputs": [
        {
          "output_type": "stream",
          "name": "stdout",
          "text": [
            "nomes iguais\n"
          ]
        }
      ]
    }
  ]
}