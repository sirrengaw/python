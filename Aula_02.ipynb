{
  "nbformat": 4,
  "nbformat_minor": 0,
  "metadata": {
    "colab": {
      "name": "Aula 02.ipynb",
      "provenance": [],
      "collapsed_sections": [],
      "authorship_tag": "ABX9TyN+57z+Adb0tcgChNq96n12",
      "include_colab_link": true
    },
    "kernelspec": {
      "name": "python3",
      "display_name": "Python 3"
    },
    "language_info": {
      "name": "python"
    }
  },
  "cells": [
    {
      "cell_type": "markdown",
      "metadata": {
        "id": "view-in-github",
        "colab_type": "text"
      },
      "source": [
        "<a href=\"https://colab.research.google.com/github/sirrengaw/python/blob/main/Aula_02.ipynb\" target=\"_parent\"><img src=\"https://colab.research.google.com/assets/colab-badge.svg\" alt=\"Open In Colab\"/></a>"
      ]
    },
    {
      "cell_type": "code",
      "execution_count": 30,
      "metadata": {
        "id": "x8s44Dt616Si",
        "colab": {
          "base_uri": "https://localhost:8080/"
        },
        "outputId": "0803498a-b332-48ad-d5b7-165ec903a20a"
      },
      "outputs": [
        {
          "output_type": "stream",
          "name": "stdout",
          "text": [
            "==============================================\n",
            "Aula 02 - Curso de Python\n",
            "==============================================\n",
            "\n",
            "Ultimo Nome: CAMARGO\n"
          ]
        }
      ],
      "source": [
        "#Aluno Wagner Fedrigo Camargo\n",
        "print(\"==============================================\")\n",
        "print(\"Aula 02 - Curso de Python\")\n",
        "print(\"==============================================\\n\")\n",
        "\n",
        "#Acessar ultimo elemento de uma lista\n",
        "nome_completo = \"Wagner Fedrigo Camargo\"\n",
        "nome_completo = nome_completo.strip() #Separa as strings\n",
        "nome_completo = nome_completo.upper() #deixa maiusculo\n",
        "nome_completo = nome_completo.split(\" \") #cria uma lista e divide os termos da string por espaco\n",
        "ultimo_nome = nome_completo[len(nome_completo)-1]#pega o ultimo termo da lista\n",
        "print(\"Ultimo Nome:\",ultimo_nome)"
      ]
    },
    {
      "cell_type": "code",
      "source": [
        "#if elif else => prestar atencao da identacao da estrutura\n",
        "a = 1\n",
        "if a == 1:\n",
        "  print(\"Certo\")\n",
        "elif a == 2:\n",
        "  print(\"Errado\")\n",
        "else:\n",
        "  print(\"Infefinido\")"
      ],
      "metadata": {
        "colab": {
          "base_uri": "https://localhost:8080/"
        },
        "id": "BFmm7pBhNaTT",
        "outputId": "83ac4366-32cf-43a1-d6d9-e3546cdbbbeb"
      },
      "execution_count": 31,
      "outputs": [
        {
          "output_type": "stream",
          "name": "stdout",
          "text": [
            "Certo\n"
          ]
        }
      ]
    }
  ]
}