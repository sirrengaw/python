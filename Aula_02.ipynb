{
  "nbformat": 4,
  "nbformat_minor": 0,
  "metadata": {
    "colab": {
      "name": "Aula 02.ipynb",
      "provenance": [],
      "authorship_tag": "ABX9TyMrb71HILXSsuggSOr2M8h0",
      "include_colab_link": true
    },
    "kernelspec": {
      "name": "python3",
      "display_name": "Python 3"
    },
    "language_info": {
      "name": "python"
    }
  },
  "cells": [
    {
      "cell_type": "markdown",
      "metadata": {
        "id": "view-in-github",
        "colab_type": "text"
      },
      "source": [
        "<a href=\"https://colab.research.google.com/github/sirrengaw/python/blob/main/Aula_02.ipynb\" target=\"_parent\"><img src=\"https://colab.research.google.com/assets/colab-badge.svg\" alt=\"Open In Colab\"/></a>"
      ]
    },
    {
      "cell_type": "code",
      "execution_count": 21,
      "metadata": {
        "id": "x8s44Dt616Si",
        "colab": {
          "base_uri": "https://localhost:8080/"
        },
        "outputId": "380c68e0-5749-4b1c-a826-2c59be20833a"
      },
      "outputs": [
        {
          "output_type": "stream",
          "name": "stdout",
          "text": [
            "==============================================\n",
            "Aula 02 - Curso de Python\n",
            "==============================================\n",
            "\n"
          ]
        }
      ],
      "source": [
        "#Aluno Wagner Fedrigo Camargo\n",
        "print(\"==============================================\")\n",
        "print(\"Aula 02 - Curso de Python\")\n",
        "print(\"==============================================\\n\")\n",
        "   "
      ]
    }
  ]
}