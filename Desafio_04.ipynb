{
  "nbformat": 4,
  "nbformat_minor": 0,
  "metadata": {
    "colab": {
      "name": "Desafio 04.ipynb",
      "provenance": [],
      "collapsed_sections": [],
      "authorship_tag": "ABX9TyN1v3e6FKo1DwaNKiLlsdD6",
      "include_colab_link": true
    },
    "kernelspec": {
      "name": "python3",
      "display_name": "Python 3"
    },
    "language_info": {
      "name": "python"
    }
  },
  "cells": [
    {
      "cell_type": "markdown",
      "metadata": {
        "id": "view-in-github",
        "colab_type": "text"
      },
      "source": [
        "<a href=\"https://colab.research.google.com/github/sirrengaw/python/blob/main/Desafio_04.ipynb\" target=\"_parent\"><img src=\"https://colab.research.google.com/assets/colab-badge.svg\" alt=\"Open In Colab\"/></a>"
      ]
    },
    {
      "cell_type": "markdown",
      "source": [
        "Nível Fácil"
      ],
      "metadata": {
        "id": "EqqkyaFFOIp-"
      }
    },
    {
      "cell_type": "code",
      "execution_count": 10,
      "metadata": {
        "colab": {
          "base_uri": "https://localhost:8080/"
        },
        "id": "cpQBLOEiOEgg",
        "outputId": "b3d5f8a3-dbda-48df-c2dd-469a512a1637"
      },
      "outputs": [
        {
          "output_type": "stream",
          "name": "stdout",
          "text": [
            "<class 'int'>\n",
            "O Vetor possui 5 Elementos.\n",
            "[0, 1, 2, 3, 4]\n"
          ]
        }
      ],
      "source": [
        "\"\"\"\n",
        "a.\tCrie um vetor de int vetA com tamanho 5 e mostre na tela os valores de seus elementos;\n",
        "\"\"\"\n",
        "vetA = [0,1,2,3,4]\n",
        "print(type(vetA[0]))\n",
        "print(\"O Vetor possui\" ,len(vetA),\"Elementos.\")\n",
        "print(vetA)"
      ]
    },
    {
      "cell_type": "code",
      "source": [
        "\"\"\"\n",
        "b.\tConsidere a lista de compras de Joana e faça o que se pede:\n",
        "\n",
        "lista_de_compras = [“batata”, “arroz”, “feijão”, “macarrão”, “detergente”]\n",
        "\n",
        "i.\tMostre na tela o tamanho da lista.\n",
        "ii.\tJoana descobriu que não precisa de arroz, mas sim de jiló. Realize a substituição do item.\t\n",
        "iii.\tJoana encontrou um detergente na sua cozinha, elimine o item.\n",
        "iv.\tJoana se lembrou que precisa de abacates. Realize a inserção do item na lista\n",
        "v.\tMostre todos os itens de forma individual utilizando um comando FOR.\n",
        "\"\"\"\n",
        "lista_de_compras = [\"batata\", \"arroz\", \"feijão\", \"macarrão\", \"detergente\"]\n",
        "print(\"O tamanho da lista é:\",len(lista_de_compras),\"Elementos.\")\n",
        "lista_de_compras[1] = \"Jilo\"\n",
        "print(lista_de_compras)\n",
        "lista_de_compras.remove(\"detergente\")\n",
        "print(lista_de_compras)\n",
        "lista_de_compras.append(\"abacates\")\n",
        "print(lista_de_compras)\n",
        "ultimo_indice = len(lista_de_compras)-1\n",
        "ultimo_item = lista_de_compras[ultimo_indice]\n",
        "print(ultimo_item)\n",
        "for x in lista_de_compras:\n",
        "  if x != ultimo_item: \n",
        "    print(x,\", \", end=\"\")\n",
        "  else:\n",
        "    print(x, end=\"\")\n"
      ],
      "metadata": {
        "colab": {
          "base_uri": "https://localhost:8080/"
        },
        "id": "jSLnKAF9QKrK",
        "outputId": "6f6be9f9-f03a-43c4-d7f1-7dd483678d58"
      },
      "execution_count": 35,
      "outputs": [
        {
          "output_type": "stream",
          "name": "stdout",
          "text": [
            "O tamanho da lista é: 5 Elementos.\n",
            "['batata', 'Jilo', 'feijão', 'macarrão', 'detergente']\n",
            "['batata', 'Jilo', 'feijão', 'macarrão']\n",
            "['batata', 'Jilo', 'feijão', 'macarrão', 'abacates']\n",
            "abacates\n",
            "batata , Jilo , feijão , macarrão , abacates"
          ]
        }
      ]
    },
    {
      "cell_type": "markdown",
      "source": [
        "Nível Médio"
      ],
      "metadata": {
        "id": "87DhXd0FUkgW"
      }
    },
    {
      "cell_type": "code",
      "source": [
        "\"\"\"\n",
        "a.\tCrie uma list de int vetB com tamanho 5, insira um inteiro com entrada do \n",
        "teclado para cada um dos elementos e mostre na tela os seus valores após a \n",
        "inserção dos elementos.\n",
        "\"\"\"\n",
        "vetB = []\n",
        "for x in range(5):\n",
        "  vetB.append(int(input(\"Digite o %dº numero inteiro:\" % (x+1))))\n",
        "print(\"========================================================\")\n",
        "print(vetB)\n",
        "print(\"========================================================\")\n"
      ],
      "metadata": {
        "colab": {
          "base_uri": "https://localhost:8080/"
        },
        "id": "QNKgFK4wUnjN",
        "outputId": "e5e657f6-b572-4590-8cc3-58d1dd9240b2"
      },
      "execution_count": 39,
      "outputs": [
        {
          "output_type": "stream",
          "name": "stdout",
          "text": [
            "Digite o 1º numero inteiro:10\n",
            "Digite o 2º numero inteiro:9\n",
            "Digite o 3º numero inteiro:7\n",
            "Digite o 4º numero inteiro:6\n",
            "Digite o 5º numero inteiro:1\n",
            "========================================================\n",
            "[10, 9, 7, 6, 1]\n",
            "========================================================\n"
          ]
        }
      ]
    },
    {
      "cell_type": "code",
      "source": [
        "\"\"\"\n",
        "b.\tCrie uma list de string vetC com tamanho 5 e insira dados à partir \n",
        "do teclado para cada um dos elementos e mostre na tela os seus valores \n",
        "após a inserção dos dados.\n",
        "\"\"\"\n",
        "vetC = []\n",
        "for x in range(5):\n",
        "  vetC.append(str(input(\"Digite o %dº texto do vetor:\" % (x+1))))\n",
        "print(\"========================================================\")\n",
        "print(vetC)\n",
        "print(\"========================================================\")"
      ],
      "metadata": {
        "colab": {
          "base_uri": "https://localhost:8080/"
        },
        "id": "4Reuu7yKVxqu",
        "outputId": "9b0166b0-2c3c-4ae6-f67d-3a345ca8723e"
      },
      "execution_count": 41,
      "outputs": [
        {
          "output_type": "stream",
          "name": "stdout",
          "text": [
            "Digite o 1º texto do vetor:Viviane\n",
            "Digite o 2º texto do vetor:Ana \n",
            "Digite o 3º texto do vetor:Douglas\n",
            "Digite o 4º texto do vetor:Wagner\n",
            "Digite o 5º texto do vetor:Zé\n",
            "========================================================\n",
            "['Viviane', 'Ana ', 'Douglas', 'Wagner', 'Zé']\n",
            "========================================================\n"
          ]
        }
      ]
    },
    {
      "cell_type": "code",
      "source": [
        "\"\"\"\n",
        "c.\tCrie uma list de int vetD com tamanho 50, atribua ao conteúdo \n",
        "de cada um de seus elementos o valor \n",
        "de seu índice e mostre o valor de cada um dos elementos na \n",
        "tela multiplicados por 2.\n",
        "\"\"\"\n",
        "vetD = []\n",
        "for x in range(50):\n",
        "  vetD.append(int(x))\n",
        "for x in vetD:\n",
        "  print((x*2), \" \", end=\"\")"
      ],
      "metadata": {
        "colab": {
          "base_uri": "https://localhost:8080/"
        },
        "id": "PqQHIp7iWLsh",
        "outputId": "a931d052-4d2f-4aa1-83fd-b88eef859d9d"
      },
      "execution_count": 52,
      "outputs": [
        {
          "output_type": "stream",
          "name": "stdout",
          "text": [
            "0  2  4  6  8  10  12  14  16  18  20  22  24  26  28  30  32  34  36  38  40  42  44  46  48  50  52  54  56  58  60  62  64  66  68  70  72  74  76  78  80  82  84  86  88  90  92  94  96  98  "
          ]
        }
      ]
    },
    {
      "cell_type": "code",
      "source": [
        "\"\"\"\n",
        "d.\tCrie uma tupla contendo todos os meses do ano e mostre qual mês corresponde ao índice 8.\n",
        "\"\"\"\n",
        "mes = (\"Janeiro\",\"Fevereiro\",\"Marco\",\"Abril\",\"Maio\",\"Junho\",\"Julho\",\"Agosto\",\"Setembro\",\"Outubro\",\"Novembro\",\"Dezembro\")\n",
        "print(\"O índice 8 da tupla é:\", mes[8])"
      ],
      "metadata": {
        "colab": {
          "base_uri": "https://localhost:8080/"
        },
        "id": "TbYMBSBCXabW",
        "outputId": "739b1e89-5442-4fbe-b609-bd698b8d4ee9"
      },
      "execution_count": 57,
      "outputs": [
        {
          "output_type": "stream",
          "name": "stdout",
          "text": [
            "O índice 8 da tupla é: Setembro\n"
          ]
        }
      ]
    },
    {
      "cell_type": "code",
      "source": [
        "\"\"\"\n",
        "e.\tCrie um set contendo as partes de um computador e depois adicione o item “memória RAM” e mostre o set na tela.\n",
        "\"\"\"\n",
        "pc = {\"CPU\", \"HD\", \"Fonte\"}\n",
        "pc.add(\"Memoria Ram\")\n",
        "print(pc)"
      ],
      "metadata": {
        "colab": {
          "base_uri": "https://localhost:8080/"
        },
        "id": "Nz5_W4BIYzuk",
        "outputId": "01bd5f9b-2de3-4fe3-efb5-db55a079deee"
      },
      "execution_count": 60,
      "outputs": [
        {
          "output_type": "stream",
          "name": "stdout",
          "text": [
            "{'Memoria Ram', 'Fonte', 'CPU', 'HD'}\n"
          ]
        }
      ]
    },
    {
      "cell_type": "code",
      "source": [
        "\"\"\"\n",
        "f.\tCrie um dicionário que guarde as informações \n",
        "de 5 conceitos de Python que você aprendeu até agora. \n",
        "\"\"\"\n",
        "conceitos_python = {\n",
        "    \"aula 01\": \"Algoritmos\",\n",
        "    \"aula 02\": \"Condicionais\",\n",
        "    \"aula 03\": \"Laços\",\n",
        "    \"aula 04\": [\"Listas\",\"Tuplas\",\"Sets\",\"Dictionaries\"],\n",
        "    \"aula 05\": \"Funções\"\n",
        "}\n",
        "print(conceitos_python)"
      ],
      "metadata": {
        "colab": {
          "base_uri": "https://localhost:8080/"
        },
        "id": "0fiMHvpxZZB2",
        "outputId": "ffdff334-0cd6-4936-eb4b-4b651335d122"
      },
      "execution_count": 62,
      "outputs": [
        {
          "output_type": "stream",
          "name": "stdout",
          "text": [
            "{'aula 01': 'Algoritmos', 'aula 02': 'Condicionais', 'aula 03': 'Laços', 'aula 04': ['Listas', 'Tuplas', 'Sets', 'Dictionaries'], 'aula 05': 'Funções'}\n"
          ]
        }
      ]
    },
    {
      "cell_type": "markdown",
      "source": [
        "Nível Avançado"
      ],
      "metadata": {
        "id": "ULULIqVOacT8"
      }
    },
    {
      "cell_type": "code",
      "source": [
        "\"\"\"\n",
        "a.\tCrie uma lista de int vetF com tamanho 100 e atribua aos índices pares um \n",
        "valor aleatório entre 0 e 100 e aos ímpares o valor de seu índice multiplicado\n",
        " por 2 e mostre seu valor na tela de cada um dos elementos.\n",
        "\"\"\"\n",
        "import random\n",
        "vetF = []\n",
        "\n",
        "for x in range(100):\n",
        "  if x % 2 == 0:\n",
        "    vetF.append(random.randrange(0, 101))\n",
        "  else:\n",
        "    vetF.append((x*2))\n",
        "print(vetF)\n"
      ],
      "metadata": {
        "colab": {
          "base_uri": "https://localhost:8080/"
        },
        "id": "EbO1u010abjd",
        "outputId": "396b7722-c003-4a9e-8a3a-24db476ded05"
      },
      "execution_count": 73,
      "outputs": [
        {
          "output_type": "stream",
          "name": "stdout",
          "text": [
            "[94, 2, 98, 6, 12, 10, 11, 14, 70, 18, 20, 22, 41, 26, 72, 30, 72, 34, 53, 38, 88, 42, 84, 46, 16, 50, 82, 54, 80, 58, 50, 62, 98, 66, 19, 70, 3, 74, 13, 78, 70, 82, 64, 86, 29, 90, 24, 94, 37, 98, 56, 102, 2, 106, 90, 110, 19, 114, 27, 118, 3, 122, 42, 126, 1, 130, 88, 134, 34, 138, 34, 142, 98, 146, 13, 150, 26, 154, 49, 158, 87, 162, 83, 166, 21, 170, 100, 174, 86, 178, 38, 182, 66, 186, 39, 190, 41, 194, 63, 198]\n"
          ]
        }
      ]
    },
    {
      "cell_type": "code",
      "source": [
        "\"\"\"\n",
        "b.\tCrie um dicionário que guarde as seguintes informações de uma pessoa: nome, cpf, telefone e endereço.\n",
        "\"\"\"\n",
        "pessoa = {\"Nome\": \"Fulano\",\"CPF\": \"000.000.000-00\",\"Telefone\": \"(99) 99999-9999)\",\"Endereço\": [\"Rua A, 167\"],\"Bairro\": \"Jardim Tal\"}\n",
        "print(pessoa)"
      ],
      "metadata": {
        "colab": {
          "base_uri": "https://localhost:8080/"
        },
        "id": "5XLQ23b5dY2n",
        "outputId": "e121c3da-bebe-452e-fe35-c4965d3c2f4b"
      },
      "execution_count": 76,
      "outputs": [
        {
          "output_type": "stream",
          "name": "stdout",
          "text": [
            "{'Nome': 'Fulano', 'CPF': '000.000.000-00', 'Telefone': '(99) 99999-9999)', 'Endereço': ['Rua A, 167'], 'Bairro': 'Jardim Tal'}\n"
          ]
        }
      ]
    },
    {
      "cell_type": "code",
      "source": [
        "\"\"\"\n",
        "c.\tCrie uma lista de dicionários que guarde as seguintes informações de uma pessoa: nome, cpf, telefone e endereço. \n",
        "\"\"\"\n",
        "pessoa = [{\"Nome\": \"Wagner\",\"CPF\": \"000.000.000-00\",\"Telefone\": \"(00) 00000-0001)\",\"Endereço\": [\"Rua A, 167\"],\"Bairro\": \"Jardim Tal\"},\n",
        "          {\"Nome\": \"Joao\",\"CPF\": \"000.000.000-01\",\"Telefone\": \"(00) 00000-0002)\",\"Endereço\": [\"Rua B, 200\"],\"Bairro\": \"Jardim Tal\"},\n",
        "          {\"Nome\": \"Fernando\",\"CPF\": \"000.000.000-02\",\"Telefone\": \"(00) 00000-0003)\",\"Endereço\": [\"Rua C, 41\"],\"Bairro\": \"Jardim Tal\"},\n",
        "          {\"Nome\": \"Guilherme\",\"CPF\": \"000.000.000-03\",\"Telefone\": \"(00) 00000-0004)\",\"Endereço\": [\"Rua D, 39\"],\"Bairro\": \"Jardim Tal\"}\n",
        "         ]\n",
        "print(pessoa)"
      ],
      "metadata": {
        "colab": {
          "base_uri": "https://localhost:8080/"
        },
        "id": "4dWFcLb6d5J3",
        "outputId": "17dede20-3a8b-471b-ed77-3d4b4f7886ec"
      },
      "execution_count": 81,
      "outputs": [
        {
          "output_type": "stream",
          "name": "stdout",
          "text": [
            "[{'Nome': 'Wagner', 'CPF': '000.000.000-00', 'Telefone': '(00) 00000-0001)', 'Endereço': ['Rua A, 167'], 'Bairro': 'Jardim Tal'}, {'Nome': 'Joao', 'CPF': '000.000.000-01', 'Telefone': '(00) 00000-0002)', 'Endereço': ['Rua B, 200'], 'Bairro': 'Jardim Tal'}, {'Nome': 'Fernando', 'CPF': '000.000.000-02', 'Telefone': '(00) 00000-0003)', 'Endereço': ['Rua C, 41'], 'Bairro': 'Jardim Tal'}, {'Nome': 'Guilherme', 'CPF': '000.000.000-03', 'Telefone': '(00) 00000-0004)', 'Endereço': ['Rua D, 39'], 'Bairro': 'Jardim Tal'}]\n"
          ]
        }
      ]
    },
    {
      "cell_type": "code",
      "source": [
        "\"\"\"\n",
        "d.\tA partir do exercício anterior crie uma busca onde o usuário possa procurar uma pessoa por nome, cpf, telefone ou endereço.\n",
        "\"\"\"\n",
        "pessoa = [{\"Nome\": \"Wagner\",\"CPF\": \"000.000.000-00\",\"Telefone\": \"(00) 00000-0001)\",\"Endereço\": [\"Rua A, 167\"],\"Bairro\": \"Jardim Tal\"},\n",
        "          {\"Nome\": \"Joao\",\"CPF\": \"000.000.000-01\",\"Telefone\": \"(00) 00000-0002)\",\"Endereço\": [\"Rua B, 200\"],\"Bairro\": \"Jardim Tal\"},\n",
        "          {\"Nome\": \"Fernando\",\"CPF\": \"000.000.000-02\",\"Telefone\": \"(00) 00000-0003)\",\"Endereço\": [\"Rua C, 41\"],\"Bairro\": \"Jardim Tal\"},\n",
        "          {\"Nome\": \"Guilherme\",\"CPF\": \"000.000.000-03\",\"Telefone\": \"(00) 00000-0004)\",\"Endereço\": [\"Rua D, 39\"],\"Bairro\": \"Jardim Tal\"}\n",
        "         ]\n",
        "opcao = int(input(\"Escolha a opcao para pesquisar na Lista: 1-Nome | 2-CPF | 3-Telefone | 4-Endereço : \"))\n",
        "while opcao < 1 or opcao > 4:\n",
        "  print(\"Opção Incorreta, Digite Novamente!\")\n",
        "  opcao = int(input(\"Escolha a opcao para pesquisar na Lista: 1-Nome | 2-CPF | 3-Telefone | 4-Endereço\"))\n",
        "if opcao == 1:\n",
        "  Nome = str(input(\"Digite o Nome para pesquisar na lista: \"))\n",
        "  resultado = next((x for x in pessoa if x[\"Nome\"] == Nome), None)\n",
        "  if resultado == None:\n",
        "    print(\"Registro Não Encontrado na Lista\")\n",
        "  else:\n",
        "    print(resultado)\n",
        "if opcao == 2:\n",
        "  CPF = str(input(\"Digite o CPF para pesquisar na lista: \"))\n",
        "  resultado = next((x for x in pessoa if x[\"CPF\"] == CPF), None)\n",
        "  if resultado == None:\n",
        "    print(\"Registro Não Encontrado na Lista\")\n",
        "  else:\n",
        "    print(resultado)\n",
        "if opcao == 3:\n",
        "  Telefone = str(input(\"Digite o Telefone para pesquisar na lista: \"))\n",
        "  resultado = next((x for x in pessoa if x[\"Telefone\"] == Telefone), None)\n",
        "  if resultado == None:\n",
        "    print(\"Registro Não Encontrado na Lista\")\n",
        "  else:\n",
        "    print(resultado)\n",
        "if opcao == 4:\n",
        "  Endereco = str(input(\"Digite o Endereco para pesquisar na lista: \"))\n",
        "  resultado = next((x for x in pessoa if x[\"Endereco\"] == Endereco), None)\n",
        "  if resultado == None:\n",
        "    print(\"Registro Não Encontrado na Lista\")\n",
        "  else:\n",
        "    print(resultado)"
      ],
      "metadata": {
        "colab": {
          "base_uri": "https://localhost:8080/"
        },
        "id": "uQy2QftbfHuM",
        "outputId": "fca1756f-f8dd-4525-ba1d-8283b04b6e47"
      },
      "execution_count": 93,
      "outputs": [
        {
          "output_type": "stream",
          "name": "stdout",
          "text": [
            "Escolha a opcao para pesquisar na Lista: 1-Nome | 2-CPF | 3-Telefone | 4-Endereço : 1\n",
            "Digite o Nome para pesquisar na lista: Carlos\n",
            "Registro Não Encontrado na Lista\n"
          ]
        }
      ]
    },
    {
      "cell_type": "code",
      "source": [
        "\"\"\"\n",
        "e.\tCrie dois sets contendo as habilidades de duas pessoas, por exemplo: \n",
        "pessoa1 = {“Python”, “Java”, “C++”}. Mostre a união e a intersecção desses dois sets.\n",
        "\"\"\"\n",
        "wagner = {\"C\" , \"Java\" , \"Python\"}\n",
        "fernando = {\"C++\", \"Python\", \"Assembly\"}\n",
        "uniao = wagner.union(fernando)\n",
        "inter = wagner.intersection(fernando)\n",
        "print(\"A união dos sets Wagner e Fernando é: \",uniao)\n",
        "print(\"A intersecção dos sets Wagner e Fernando é: \",inter)"
      ],
      "metadata": {
        "colab": {
          "base_uri": "https://localhost:8080/"
        },
        "id": "1uybvw7Wkw5q",
        "outputId": "330d216a-f800-4515-beb9-8f10c1bb3f81"
      },
      "execution_count": 102,
      "outputs": [
        {
          "output_type": "stream",
          "name": "stdout",
          "text": [
            "A união dos sets Wagner e Fernando é:  {'Java', 'C++', 'C', 'Assembly', 'Python'}\n",
            "A intersecção dos sets Wagner e Fernando é:  {'Python'}\n"
          ]
        }
      ]
    },
    {
      "cell_type": "code",
      "source": [
        "\"\"\"\n",
        "f.\tCrie uma lista de string vetI e atribua a cada um de seus \n",
        "elementos um nome com dados vindos do teclado. \n",
        "Por exemplo: \n",
        "vetI[0] => \"Maria\";\n",
        "vetI[1] => \"Joao\";\n",
        "vetI[2] => \"Marcelo\";\n",
        "vetI[3] => \"Antonia\";\n",
        "Atribua à uma string sBusca um nome com dados vindos do teclado.\n",
        " Mostre na tela os valores dos índices que contém sBusca.\n",
        "sBusca => \"Marcelo\"\n",
        "saída: 2\n",
        "\"\"\"\n",
        "vetI = []\n",
        "i = int(input(\"Digite quantos nomes quer por na lista: \"))\n",
        "for x in range(i):\n",
        "  vetI.append(str(input(\"Digite o %dº nome: \" % (x+1))))\n",
        "print(vetI)\n",
        "print(\"================================================\")\n",
        "print(\"Pesquisa de Indice de Nomes da Lista\")\n",
        "print(\"================================================\")\n",
        "Nome = str(input(\"Digite o nome para achar o indice na lista: \"))\n",
        "try:\n",
        "  elemento = vetI.index(Nome)\n",
        "except:\n",
        "  elemento = -1]\n",
        "if elemento == -1:\n",
        "  print(\"Erro! O Nome digitado não possui numero de índice na lista!\")\n",
        "else:\n",
        "  print (\"O Elemento de %s na lista é: %d \" % (Nome,elemento))\n"
      ],
      "metadata": {
        "colab": {
          "base_uri": "https://localhost:8080/"
        },
        "id": "1qW13XcVmj-s",
        "outputId": "840102fc-5fb5-4524-8d61-7e8b11068d8b"
      },
      "execution_count": 114,
      "outputs": [
        {
          "output_type": "stream",
          "name": "stdout",
          "text": [
            "Digite quantos nomes quer por na lista: 3\n",
            "Digite o 1º nome: Wagner\n",
            "Digite o 2º nome: Fernando\n",
            "Digite o 3º nome: Joao\n",
            "['Wagner', 'Fernando', 'Joao']\n",
            "================================================\n",
            "Pesquisa de Indice de Nomes da Lista\n",
            "================================================\n",
            "Digite o nome para achar o indice na lista: Wagner\n",
            "O Elemento de Wagner na lista é: 0 \n"
          ]
        }
      ]
    }
  ]
}